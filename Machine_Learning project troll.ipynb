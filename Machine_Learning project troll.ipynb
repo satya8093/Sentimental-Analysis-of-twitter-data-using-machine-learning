{
 "cells": [
  {
   "cell_type": "code",
   "execution_count": 1,
   "metadata": {},
   "outputs": [
    {
     "name": "stdout",
     "output_type": "stream",
     "text": [
      "Requirement already up-to-date: gensim in c:\\users\\utkarsh\\anaconda3\\lib\\site-packages (3.8.1)\n",
      "Requirement already satisfied, skipping upgrade: six>=1.5.0 in c:\\users\\utkarsh\\anaconda3\\lib\\site-packages (from gensim) (1.12.0)\n",
      "Requirement already satisfied, skipping upgrade: scipy>=0.18.1 in c:\\users\\utkarsh\\anaconda3\\lib\\site-packages (from gensim) (1.3.1)\n",
      "Requirement already satisfied, skipping upgrade: numpy>=1.11.3 in c:\\users\\utkarsh\\anaconda3\\lib\\site-packages (from gensim) (1.16.5)\n",
      "Requirement already satisfied, skipping upgrade: smart-open>=1.8.1 in c:\\users\\utkarsh\\anaconda3\\lib\\site-packages (from gensim) (1.8.4)\n",
      "Requirement already satisfied, skipping upgrade: boto>=2.32 in c:\\users\\utkarsh\\anaconda3\\lib\\site-packages (from smart-open>=1.8.1->gensim) (2.49.0)\n",
      "Requirement already satisfied, skipping upgrade: boto3 in c:\\users\\utkarsh\\anaconda3\\lib\\site-packages (from smart-open>=1.8.1->gensim) (1.9.234)\n",
      "Requirement already satisfied, skipping upgrade: requests in c:\\users\\utkarsh\\anaconda3\\lib\\site-packages (from smart-open>=1.8.1->gensim) (2.22.0)\n",
      "Requirement already satisfied, skipping upgrade: bz2file in c:\\users\\utkarsh\\anaconda3\\lib\\site-packages (from smart-open>=1.8.1->gensim) (0.98)\n",
      "Requirement already satisfied, skipping upgrade: jmespath<1.0.0,>=0.7.1 in c:\\users\\utkarsh\\anaconda3\\lib\\site-packages (from boto3->smart-open>=1.8.1->gensim) (0.9.4)\n",
      "Requirement already satisfied, skipping upgrade: s3transfer<0.3.0,>=0.2.0 in c:\\users\\utkarsh\\anaconda3\\lib\\site-packages (from boto3->smart-open>=1.8.1->gensim) (0.2.1)\n",
      "Requirement already satisfied, skipping upgrade: botocore<1.13.0,>=1.12.234 in c:\\users\\utkarsh\\anaconda3\\lib\\site-packages (from boto3->smart-open>=1.8.1->gensim) (1.12.234)\n",
      "Requirement already satisfied, skipping upgrade: certifi>=2017.4.17 in c:\\users\\utkarsh\\anaconda3\\lib\\site-packages (from requests->smart-open>=1.8.1->gensim) (2019.9.11)\n",
      "Requirement already satisfied, skipping upgrade: idna<2.9,>=2.5 in c:\\users\\utkarsh\\anaconda3\\lib\\site-packages (from requests->smart-open>=1.8.1->gensim) (2.8)\n",
      "Requirement already satisfied, skipping upgrade: chardet<3.1.0,>=3.0.2 in c:\\users\\utkarsh\\anaconda3\\lib\\site-packages (from requests->smart-open>=1.8.1->gensim) (3.0.4)\n",
      "Requirement already satisfied, skipping upgrade: urllib3!=1.25.0,!=1.25.1,<1.26,>=1.21.1 in c:\\users\\utkarsh\\anaconda3\\lib\\site-packages (from requests->smart-open>=1.8.1->gensim) (1.24.2)\n",
      "Requirement already satisfied, skipping upgrade: python-dateutil<3.0.0,>=2.1 in c:\\users\\utkarsh\\anaconda3\\lib\\site-packages (from botocore<1.13.0,>=1.12.234->boto3->smart-open>=1.8.1->gensim) (2.8.0)\n",
      "Requirement already satisfied, skipping upgrade: docutils<0.16,>=0.10 in c:\\users\\utkarsh\\anaconda3\\lib\\site-packages (from botocore<1.13.0,>=1.12.234->boto3->smart-open>=1.8.1->gensim) (0.15.2)\n"
     ]
    },
    {
     "name": "stderr",
     "output_type": "stream",
     "text": [
      "WARNING: No metadata found in c:\\users\\utkarsh\\anaconda3\\lib\\site-packages\n",
      "ERROR: Error checking for conflicts.\n",
      "Traceback (most recent call last):\n",
      "  File \"C:\\Users\\utkarsh\\Anaconda3\\lib\\site-packages\\pip\\_vendor\\pkg_resources\\__init__.py\", line 3012, in _dep_map\n",
      "    return self.__dep_map\n",
      "  File \"C:\\Users\\utkarsh\\Anaconda3\\lib\\site-packages\\pip\\_vendor\\pkg_resources\\__init__.py\", line 2806, in __getattr__\n",
      "    raise AttributeError(attr)\n",
      "AttributeError: _DistInfoDistribution__dep_map\n",
      "\n",
      "During handling of the above exception, another exception occurred:\n",
      "\n",
      "Traceback (most recent call last):\n",
      "  File \"C:\\Users\\utkarsh\\Anaconda3\\lib\\site-packages\\pip\\_vendor\\pkg_resources\\__init__.py\", line 3003, in _parsed_pkg_info\n",
      "    return self._pkg_info\n",
      "  File \"C:\\Users\\utkarsh\\Anaconda3\\lib\\site-packages\\pip\\_vendor\\pkg_resources\\__init__.py\", line 2806, in __getattr__\n",
      "    raise AttributeError(attr)\n",
      "AttributeError: _pkg_info\n",
      "\n",
      "During handling of the above exception, another exception occurred:\n",
      "\n",
      "Traceback (most recent call last):\n",
      "  File \"C:\\Users\\utkarsh\\Anaconda3\\lib\\site-packages\\pip\\_internal\\commands\\install.py\", line 517, in _warn_about_conflicts\n",
      "    package_set, _dep_info = check_install_conflicts(to_install)\n",
      "  File \"C:\\Users\\utkarsh\\Anaconda3\\lib\\site-packages\\pip\\_internal\\operations\\check.py\", line 110, in check_install_conflicts\n",
      "    package_set, _ = create_package_set_from_installed()\n",
      "  File \"C:\\Users\\utkarsh\\Anaconda3\\lib\\site-packages\\pip\\_internal\\operations\\check.py\", line 49, in create_package_set_from_installed\n",
      "    package_set[name] = PackageDetails(dist.version, dist.requires())\n",
      "  File \"C:\\Users\\utkarsh\\Anaconda3\\lib\\site-packages\\pip\\_vendor\\pkg_resources\\__init__.py\", line 2727, in requires\n",
      "    dm = self._dep_map\n",
      "  File \"C:\\Users\\utkarsh\\Anaconda3\\lib\\site-packages\\pip\\_vendor\\pkg_resources\\__init__.py\", line 3014, in _dep_map\n",
      "    self.__dep_map = self._compute_dependencies()\n",
      "  File \"C:\\Users\\utkarsh\\Anaconda3\\lib\\site-packages\\pip\\_vendor\\pkg_resources\\__init__.py\", line 3023, in _compute_dependencies\n",
      "    for req in self._parsed_pkg_info.get_all('Requires-Dist') or []:\n",
      "  File \"C:\\Users\\utkarsh\\Anaconda3\\lib\\site-packages\\pip\\_vendor\\pkg_resources\\__init__.py\", line 3005, in _parsed_pkg_info\n",
      "    metadata = self.get_metadata(self.PKG_INFO)\n",
      "  File \"C:\\Users\\utkarsh\\Anaconda3\\lib\\site-packages\\pip\\_vendor\\pkg_resources\\__init__.py\", line 1419, in get_metadata\n",
      "    value = self._get(self._fn(self.egg_info, name))\n",
      "  File \"C:\\Users\\utkarsh\\Anaconda3\\lib\\site-packages\\pip\\_vendor\\pkg_resources\\__init__.py\", line 1607, in _get\n",
      "    with open(path, 'rb') as stream:\n",
      "FileNotFoundError: [Errno 2] No such file or directory: 'c:\\\\users\\\\utkarsh\\\\anaconda3\\\\lib\\\\site-packages\\\\Flask_Cors-3.0.7.dist-info\\\\METADATA'\n"
     ]
    },
    {
     "name": "stdout",
     "output_type": "stream",
     "text": [
      "Requirement already up-to-date: keras in c:\\users\\utkarsh\\anaconda3\\lib\\site-packages (2.3.1)\n",
      "Requirement already satisfied, skipping upgrade: six>=1.9.0 in c:\\users\\utkarsh\\anaconda3\\lib\\site-packages (from keras) (1.12.0)\n",
      "Requirement already satisfied, skipping upgrade: h5py in c:\\users\\utkarsh\\anaconda3\\lib\\site-packages (from keras) (2.9.0)\n",
      "Requirement already satisfied, skipping upgrade: scipy>=0.14 in c:\\users\\utkarsh\\anaconda3\\lib\\site-packages (from keras) (1.3.1)\n",
      "Requirement already satisfied, skipping upgrade: numpy>=1.9.1 in c:\\users\\utkarsh\\anaconda3\\lib\\site-packages (from keras) (1.16.5)\n",
      "Requirement already satisfied, skipping upgrade: keras-preprocessing>=1.0.5 in c:\\users\\utkarsh\\anaconda3\\lib\\site-packages (from keras) (1.1.0)\n",
      "Requirement already satisfied, skipping upgrade: keras-applications>=1.0.6 in c:\\users\\utkarsh\\anaconda3\\lib\\site-packages (from keras) (1.0.8)\n",
      "Requirement already satisfied, skipping upgrade: pyyaml in c:\\users\\utkarsh\\anaconda3\\lib\\site-packages (from keras) (5.1.2)\n"
     ]
    },
    {
     "name": "stderr",
     "output_type": "stream",
     "text": [
      "ERROR: Error checking for conflicts.\n",
      "Traceback (most recent call last):\n",
      "  File \"C:\\Users\\utkarsh\\Anaconda3\\lib\\site-packages\\pip\\_vendor\\pkg_resources\\__init__.py\", line 3012, in _dep_map\n",
      "    return self.__dep_map\n",
      "  File \"C:\\Users\\utkarsh\\Anaconda3\\lib\\site-packages\\pip\\_vendor\\pkg_resources\\__init__.py\", line 2806, in __getattr__\n",
      "    raise AttributeError(attr)\n",
      "AttributeError: _DistInfoDistribution__dep_map\n",
      "\n",
      "During handling of the above exception, another exception occurred:\n",
      "\n",
      "Traceback (most recent call last):\n",
      "  File \"C:\\Users\\utkarsh\\Anaconda3\\lib\\site-packages\\pip\\_vendor\\pkg_resources\\__init__.py\", line 3003, in _parsed_pkg_info\n",
      "    return self._pkg_info\n",
      "  File \"C:\\Users\\utkarsh\\Anaconda3\\lib\\site-packages\\pip\\_vendor\\pkg_resources\\__init__.py\", line 2806, in __getattr__\n",
      "    raise AttributeError(attr)\n",
      "AttributeError: _pkg_info\n",
      "\n",
      "During handling of the above exception, another exception occurred:\n",
      "\n",
      "Traceback (most recent call last):\n",
      "  File \"C:\\Users\\utkarsh\\Anaconda3\\lib\\site-packages\\pip\\_internal\\commands\\install.py\", line 517, in _warn_about_conflicts\n",
      "    package_set, _dep_info = check_install_conflicts(to_install)\n",
      "  File \"C:\\Users\\utkarsh\\Anaconda3\\lib\\site-packages\\pip\\_internal\\operations\\check.py\", line 110, in check_install_conflicts\n",
      "    package_set, _ = create_package_set_from_installed()\n",
      "  File \"C:\\Users\\utkarsh\\Anaconda3\\lib\\site-packages\\pip\\_internal\\operations\\check.py\", line 49, in create_package_set_from_installed\n",
      "    package_set[name] = PackageDetails(dist.version, dist.requires())\n",
      "  File \"C:\\Users\\utkarsh\\Anaconda3\\lib\\site-packages\\pip\\_vendor\\pkg_resources\\__init__.py\", line 2727, in requires\n",
      "    dm = self._dep_map\n",
      "  File \"C:\\Users\\utkarsh\\Anaconda3\\lib\\site-packages\\pip\\_vendor\\pkg_resources\\__init__.py\", line 3014, in _dep_map\n",
      "    self.__dep_map = self._compute_dependencies()\n",
      "  File \"C:\\Users\\utkarsh\\Anaconda3\\lib\\site-packages\\pip\\_vendor\\pkg_resources\\__init__.py\", line 3023, in _compute_dependencies\n",
      "    for req in self._parsed_pkg_info.get_all('Requires-Dist') or []:\n",
      "  File \"C:\\Users\\utkarsh\\Anaconda3\\lib\\site-packages\\pip\\_vendor\\pkg_resources\\__init__.py\", line 3005, in _parsed_pkg_info\n",
      "    metadata = self.get_metadata(self.PKG_INFO)\n",
      "  File \"C:\\Users\\utkarsh\\Anaconda3\\lib\\site-packages\\pip\\_vendor\\pkg_resources\\__init__.py\", line 1419, in get_metadata\n",
      "    value = self._get(self._fn(self.egg_info, name))\n",
      "  File \"C:\\Users\\utkarsh\\Anaconda3\\lib\\site-packages\\pip\\_vendor\\pkg_resources\\__init__.py\", line 1607, in _get\n",
      "    with open(path, 'rb') as stream:\n",
      "FileNotFoundError: [Errno 2] No such file or directory: 'c:\\\\users\\\\utkarsh\\\\anaconda3\\\\lib\\\\site-packages\\\\Flask_Cors-3.0.7.dist-info\\\\METADATA'\n"
     ]
    },
    {
     "name": "stdout",
     "output_type": "stream",
     "text": [
      "Requirement already up-to-date: pandas in c:\\users\\utkarsh\\anaconda3\\lib\\site-packages (0.25.1)\n",
      "Requirement already satisfied, skipping upgrade: numpy>=1.13.3 in c:\\users\\utkarsh\\anaconda3\\lib\\site-packages (from pandas) (1.16.5)\n",
      "Requirement already satisfied, skipping upgrade: pytz>=2017.2 in c:\\users\\utkarsh\\anaconda3\\lib\\site-packages (from pandas) (2019.3)\n",
      "Requirement already satisfied, skipping upgrade: python-dateutil>=2.6.1 in c:\\users\\utkarsh\\anaconda3\\lib\\site-packages (from pandas) (2.8.0)\n",
      "Requirement already satisfied, skipping upgrade: six>=1.5 in c:\\users\\utkarsh\\anaconda3\\lib\\site-packages (from python-dateutil>=2.6.1->pandas) (1.12.0)\n"
     ]
    },
    {
     "name": "stderr",
     "output_type": "stream",
     "text": [
      "ERROR: Error checking for conflicts.\n",
      "Traceback (most recent call last):\n",
      "  File \"C:\\Users\\utkarsh\\Anaconda3\\lib\\site-packages\\pip\\_vendor\\pkg_resources\\__init__.py\", line 3012, in _dep_map\n",
      "    return self.__dep_map\n",
      "  File \"C:\\Users\\utkarsh\\Anaconda3\\lib\\site-packages\\pip\\_vendor\\pkg_resources\\__init__.py\", line 2806, in __getattr__\n",
      "    raise AttributeError(attr)\n",
      "AttributeError: _DistInfoDistribution__dep_map\n",
      "\n",
      "During handling of the above exception, another exception occurred:\n",
      "\n",
      "Traceback (most recent call last):\n",
      "  File \"C:\\Users\\utkarsh\\Anaconda3\\lib\\site-packages\\pip\\_vendor\\pkg_resources\\__init__.py\", line 3003, in _parsed_pkg_info\n",
      "    return self._pkg_info\n",
      "  File \"C:\\Users\\utkarsh\\Anaconda3\\lib\\site-packages\\pip\\_vendor\\pkg_resources\\__init__.py\", line 2806, in __getattr__\n",
      "    raise AttributeError(attr)\n",
      "AttributeError: _pkg_info\n",
      "\n",
      "During handling of the above exception, another exception occurred:\n",
      "\n",
      "Traceback (most recent call last):\n",
      "  File \"C:\\Users\\utkarsh\\Anaconda3\\lib\\site-packages\\pip\\_internal\\commands\\install.py\", line 517, in _warn_about_conflicts\n",
      "    package_set, _dep_info = check_install_conflicts(to_install)\n",
      "  File \"C:\\Users\\utkarsh\\Anaconda3\\lib\\site-packages\\pip\\_internal\\operations\\check.py\", line 110, in check_install_conflicts\n",
      "    package_set, _ = create_package_set_from_installed()\n",
      "  File \"C:\\Users\\utkarsh\\Anaconda3\\lib\\site-packages\\pip\\_internal\\operations\\check.py\", line 49, in create_package_set_from_installed\n",
      "    package_set[name] = PackageDetails(dist.version, dist.requires())\n",
      "  File \"C:\\Users\\utkarsh\\Anaconda3\\lib\\site-packages\\pip\\_vendor\\pkg_resources\\__init__.py\", line 2727, in requires\n",
      "    dm = self._dep_map\n",
      "  File \"C:\\Users\\utkarsh\\Anaconda3\\lib\\site-packages\\pip\\_vendor\\pkg_resources\\__init__.py\", line 3014, in _dep_map\n",
      "    self.__dep_map = self._compute_dependencies()\n",
      "  File \"C:\\Users\\utkarsh\\Anaconda3\\lib\\site-packages\\pip\\_vendor\\pkg_resources\\__init__.py\", line 3023, in _compute_dependencies\n",
      "    for req in self._parsed_pkg_info.get_all('Requires-Dist') or []:\n",
      "  File \"C:\\Users\\utkarsh\\Anaconda3\\lib\\site-packages\\pip\\_vendor\\pkg_resources\\__init__.py\", line 3005, in _parsed_pkg_info\n",
      "    metadata = self.get_metadata(self.PKG_INFO)\n",
      "  File \"C:\\Users\\utkarsh\\Anaconda3\\lib\\site-packages\\pip\\_vendor\\pkg_resources\\__init__.py\", line 1419, in get_metadata\n",
      "    value = self._get(self._fn(self.egg_info, name))\n",
      "  File \"C:\\Users\\utkarsh\\Anaconda3\\lib\\site-packages\\pip\\_vendor\\pkg_resources\\__init__.py\", line 1607, in _get\n",
      "    with open(path, 'rb') as stream:\n",
      "FileNotFoundError: [Errno 2] No such file or directory: 'c:\\\\users\\\\utkarsh\\\\anaconda3\\\\lib\\\\site-packages\\\\Flask_Cors-3.0.7.dist-info\\\\METADATA'\n"
     ]
    }
   ],
   "source": [
    "!pip install gensim --upgrade\n",
    "!pip install keras --upgrade\n",
    "!pip install pandas --upgrade"
   ]
  },
  {
   "cell_type": "code",
   "execution_count": 2,
   "metadata": {},
   "outputs": [
    {
     "name": "stderr",
     "output_type": "stream",
     "text": [
      "Using TensorFlow backend.\n"
     ]
    }
   ],
   "source": [
    "# DataFrame\n",
    "import pandas as pd\n",
    "\n",
    "# Matplot\n",
    "import matplotlib.pyplot as plt\n",
    "%matplotlib inline\n",
    "\n",
    "# Scikit-learn\n",
    "from sklearn.model_selection import train_test_split\n",
    "from sklearn.preprocessing import LabelEncoder\n",
    "from sklearn.metrics import confusion_matrix, classification_report, accuracy_score\n",
    "from sklearn.manifold import TSNE\n",
    "from sklearn.feature_extraction.text import TfidfVectorizer\n",
    "\n",
    "# Keras\n",
    "from keras.preprocessing.text import Tokenizer\n",
    "from keras.preprocessing.sequence import pad_sequences\n",
    "from keras.models import Sequential\n",
    "from keras.layers import Activation, Dense, Dropout, Embedding, Flatten, Conv1D, MaxPooling1D, LSTM\n",
    "from keras import utils\n",
    "from keras.callbacks import ReduceLROnPlateau, EarlyStopping\n",
    "\n",
    "# nltk\n",
    "import nltk\n",
    "from nltk.corpus import stopwords\n",
    "from  nltk.stem import SnowballStemmer\n",
    "\n",
    "# Word2vec\n",
    "import gensim\n",
    "\n",
    "# Utility\n",
    "import re\n",
    "import numpy as np\n",
    "import os\n",
    "from collections import Counter\n",
    "import logging\n",
    "import time\n",
    "import pickle\n",
    "import itertools\n",
    "\n",
    "# Set log\n",
    "logging.basicConfig(format='%(asctime)s : %(levelname)s : %(message)s', level=logging.INFO)"
   ]
  },
  {
   "cell_type": "code",
   "execution_count": 3,
   "metadata": {},
   "outputs": [
    {
     "name": "stderr",
     "output_type": "stream",
     "text": [
      "[nltk_data] Downloading package stopwords to\n",
      "[nltk_data]     C:\\Users\\utkarsh\\AppData\\Roaming\\nltk_data...\n",
      "[nltk_data]   Package stopwords is already up-to-date!\n"
     ]
    },
    {
     "data": {
      "text/plain": [
       "True"
      ]
     },
     "execution_count": 3,
     "metadata": {},
     "output_type": "execute_result"
    }
   ],
   "source": [
    "nltk.download('stopwords')"
   ]
  },
  {
   "cell_type": "code",
   "execution_count": 4,
   "metadata": {},
   "outputs": [],
   "source": [
    "# DATASET\n",
    "DATASET_COLUMNS = [\"target\", \"ids\", \"date\", \"flag\", \"user\", \"text\"]\n",
    "DATASET_ENCODING = \"ISO-8859-1\"\n",
    "TRAIN_SIZE = 0.8\n",
    "\n",
    "# TEXT CLENAING\n",
    "TEXT_CLEANING_RE = \"@\\S+|https?:\\S+|http?:\\S|[^A-Za-z0-9]+\"\n",
    "\n",
    "# WORD2VEC \n",
    "W2V_SIZE = 300\n",
    "W2V_WINDOW = 7\n",
    "W2V_EPOCH = 32\n",
    "W2V_MIN_COUNT = 10\n",
    "\n",
    "# KERAS\n",
    "SEQUENCE_LENGTH = 300\n",
    "EPOCHS = 8\n",
    "BATCH_SIZE = 1024\n",
    "\n",
    "# SENTIMENT\n",
    "POSITIVE = \"POSITIVE\"\n",
    "NEGATIVE = \"NEGATIVE\"\n",
    "NEUTRAL = \"NEUTRAL\"\n",
    "SENTIMENT_THRESHOLDS = (0.4, 0.7)\n",
    "\n",
    "# EXPORT\n",
    "KERAS_MODEL = \"model.h5\"\n",
    "WORD2VEC_MODEL = \"model.w2v\"\n",
    "TOKENIZER_MODEL = \"tokenizer.pkl\"\n",
    "ENCODER_MODEL = \"encoder.pkl\""
   ]
  },
  {
   "cell_type": "code",
   "execution_count": 5,
   "metadata": {},
   "outputs": [
    {
     "name": "stdout",
     "output_type": "stream",
     "text": [
      "Open file: Project Troll\\sentiment140\\input.csv\n"
     ]
    }
   ],
   "source": [
    "dataset_filename = os.listdir(\"Project Troll/sentiment140/\")[0]\n",
    "dataset_path = os.path.join(\"Project Troll\",\"sentiment140\",dataset_filename)\n",
    "print(\"Open file:\", dataset_path)\n",
    "df = pd.read_csv(dataset_path, encoding =DATASET_ENCODING , names=DATASET_COLUMNS)"
   ]
  },
  {
   "cell_type": "code",
   "execution_count": 6,
   "metadata": {},
   "outputs": [
    {
     "name": "stdout",
     "output_type": "stream",
     "text": [
      "Dataset size: 1600000\n"
     ]
    }
   ],
   "source": [
    "print(\"Dataset size:\", len(df))"
   ]
  },
  {
   "cell_type": "code",
   "execution_count": 7,
   "metadata": {},
   "outputs": [
    {
     "data": {
      "text/html": [
       "<div>\n",
       "<style scoped>\n",
       "    .dataframe tbody tr th:only-of-type {\n",
       "        vertical-align: middle;\n",
       "    }\n",
       "\n",
       "    .dataframe tbody tr th {\n",
       "        vertical-align: top;\n",
       "    }\n",
       "\n",
       "    .dataframe thead th {\n",
       "        text-align: right;\n",
       "    }\n",
       "</style>\n",
       "<table border=\"1\" class=\"dataframe\">\n",
       "  <thead>\n",
       "    <tr style=\"text-align: right;\">\n",
       "      <th></th>\n",
       "      <th>target</th>\n",
       "      <th>ids</th>\n",
       "      <th>date</th>\n",
       "      <th>flag</th>\n",
       "      <th>user</th>\n",
       "      <th>text</th>\n",
       "    </tr>\n",
       "  </thead>\n",
       "  <tbody>\n",
       "    <tr>\n",
       "      <td>0</td>\n",
       "      <td>0</td>\n",
       "      <td>1467810369</td>\n",
       "      <td>Mon Apr 06 22:19:45 PDT 2009</td>\n",
       "      <td>NO_QUERY</td>\n",
       "      <td>_TheSpecialOne_</td>\n",
       "      <td>@switchfoot http://twitpic.com/2y1zl - Awww, t...</td>\n",
       "    </tr>\n",
       "    <tr>\n",
       "      <td>1</td>\n",
       "      <td>0</td>\n",
       "      <td>1467810672</td>\n",
       "      <td>Mon Apr 06 22:19:49 PDT 2009</td>\n",
       "      <td>NO_QUERY</td>\n",
       "      <td>scotthamilton</td>\n",
       "      <td>is upset that he can't update his Facebook by ...</td>\n",
       "    </tr>\n",
       "    <tr>\n",
       "      <td>2</td>\n",
       "      <td>0</td>\n",
       "      <td>1467810917</td>\n",
       "      <td>Mon Apr 06 22:19:53 PDT 2009</td>\n",
       "      <td>NO_QUERY</td>\n",
       "      <td>mattycus</td>\n",
       "      <td>@Kenichan I dived many times for the ball. Man...</td>\n",
       "    </tr>\n",
       "    <tr>\n",
       "      <td>3</td>\n",
       "      <td>0</td>\n",
       "      <td>1467811184</td>\n",
       "      <td>Mon Apr 06 22:19:57 PDT 2009</td>\n",
       "      <td>NO_QUERY</td>\n",
       "      <td>ElleCTF</td>\n",
       "      <td>my whole body feels itchy and like its on fire</td>\n",
       "    </tr>\n",
       "    <tr>\n",
       "      <td>4</td>\n",
       "      <td>0</td>\n",
       "      <td>1467811193</td>\n",
       "      <td>Mon Apr 06 22:19:57 PDT 2009</td>\n",
       "      <td>NO_QUERY</td>\n",
       "      <td>Karoli</td>\n",
       "      <td>@nationwideclass no, it's not behaving at all....</td>\n",
       "    </tr>\n",
       "  </tbody>\n",
       "</table>\n",
       "</div>"
      ],
      "text/plain": [
       "   target         ids                          date      flag  \\\n",
       "0       0  1467810369  Mon Apr 06 22:19:45 PDT 2009  NO_QUERY   \n",
       "1       0  1467810672  Mon Apr 06 22:19:49 PDT 2009  NO_QUERY   \n",
       "2       0  1467810917  Mon Apr 06 22:19:53 PDT 2009  NO_QUERY   \n",
       "3       0  1467811184  Mon Apr 06 22:19:57 PDT 2009  NO_QUERY   \n",
       "4       0  1467811193  Mon Apr 06 22:19:57 PDT 2009  NO_QUERY   \n",
       "\n",
       "              user                                               text  \n",
       "0  _TheSpecialOne_  @switchfoot http://twitpic.com/2y1zl - Awww, t...  \n",
       "1    scotthamilton  is upset that he can't update his Facebook by ...  \n",
       "2         mattycus  @Kenichan I dived many times for the ball. Man...  \n",
       "3          ElleCTF    my whole body feels itchy and like its on fire   \n",
       "4           Karoli  @nationwideclass no, it's not behaving at all....  "
      ]
     },
     "execution_count": 7,
     "metadata": {},
     "output_type": "execute_result"
    }
   ],
   "source": [
    "df.head(5)"
   ]
  },
  {
   "cell_type": "code",
   "execution_count": 8,
   "metadata": {},
   "outputs": [],
   "source": [
    "decode_map = {0: \"NEGATIVE\", 2: \"NEUTRAL\", 4: \"POSITIVE\"}\n",
    "def decode_sentiment(label):\n",
    "    return decode_map[int(label)]"
   ]
  },
  {
   "cell_type": "code",
   "execution_count": 9,
   "metadata": {},
   "outputs": [
    {
     "name": "stdout",
     "output_type": "stream",
     "text": [
      "Wall time: 794 ms\n"
     ]
    }
   ],
   "source": [
    "%%time\n",
    "df.target = df.target.apply(lambda x: decode_sentiment(x))"
   ]
  },
  {
   "cell_type": "code",
   "execution_count": 10,
   "metadata": {},
   "outputs": [
    {
     "data": {
      "text/plain": [
       "Text(0.5, 1.0, 'Dataset labels distribuition')"
      ]
     },
     "execution_count": 10,
     "metadata": {},
     "output_type": "execute_result"
    },
    {
     "data": {
      "image/png": "[encoded data removed]",
      "text/plain": [
       "<Figure size 1152x576 with 1 Axes>"
      ]
     },
     "metadata": {
      "needs_background": "light"
     },
     "output_type": "display_data"
    }
   ],
   "source": [
    "target_cnt = Counter(df.target)\n",
    "\n",
    "plt.figure(figsize=(16,8))\n",
    "plt.bar(target_cnt.keys(), target_cnt.values())\n",
    "plt.title(\"Dataset labels distribuition\")"
   ]
  },
  {
   "cell_type": "code",
   "execution_count": 11,
   "metadata": {},
   "outputs": [],
   "source": [
    "stop_words = stopwords.words(\"english\")\n",
    "stemmer = SnowballStemmer(\"english\")"
   ]
  },
  {
   "cell_type": "code",
   "execution_count": 12,
   "metadata": {},
   "outputs": [],
   "source": [
    "def preprocess(text, stem=False):\n",
    "    # Remove link,user and special characters\n",
    "    text = re.sub(TEXT_CLEANING_RE, ' ', str(text).lower()).strip()\n",
    "    tokens = []\n",
    "    for token in text.split():\n",
    "        if token not in stop_words:\n",
    "            if stem:\n",
    "                tokens.append(stemmer.stem(token))\n",
    "            else:\n",
    "                tokens.append(token)\n",
    "    return \" \".join(tokens)"
   ]
  },
  {
   "cell_type": "code",
   "execution_count": 13,
   "metadata": {},
   "outputs": [
    {
     "name": "stdout",
     "output_type": "stream",
     "text": [
      "Wall time: 1min 3s\n"
     ]
    }
   ],
   "source": [
    "%%time\n",
    "df.text = df.text.apply(lambda x: preprocess(x))"
   ]
  },
  {
   "cell_type": "code",
   "execution_count": 14,
   "metadata": {},
   "outputs": [
    {
     "name": "stdout",
     "output_type": "stream",
     "text": [
      "TRAIN size: 1280000\n",
      "TEST size: 320000\n"
     ]
    }
   ],
   "source": [
    "df_train, df_test = train_test_split(df, test_size=1-TRAIN_SIZE, random_state=42)\n",
    "print(\"TRAIN size:\", len(df_train))\n",
    "print(\"TEST size:\", len(df_test))"
   ]
  },
  {
   "cell_type": "code",
   "execution_count": 17,
   "metadata": {},
   "outputs": [],
   "source": [
    "#Word2Vec\n",
    "documents = [_text.split() for _text in df_train.text] "
   ]
  },
  {
   "cell_type": "code",
   "execution_count": 18,
   "metadata": {},
   "outputs": [],
   "source": [
    "w2v_model = gensim.models.word2vec.Word2Vec(size=W2V_SIZE, \n",
    "                                            window=W2V_WINDOW, \n",
    "                                            min_count=W2V_MIN_COUNT, \n",
    "                                            workers=8)\n"
   ]
  },
  {
   "cell_type": "code",
   "execution_count": 19,
   "metadata": {},
   "outputs": [
    {
     "name": "stderr",
     "output_type": "stream",
     "text": [
      "2019-10-15 11:21:13,121 : INFO : collecting all words and their counts\n",
      "2019-10-15 11:21:13,125 : INFO : PROGRESS: at sentence #0, processed 0 words, keeping 0 word types\n",
      "2019-10-15 11:21:13,153 : INFO : PROGRESS: at sentence #10000, processed 72565 words, keeping 14005 word types\n",
      "2019-10-15 11:21:13,185 : INFO : PROGRESS: at sentence #20000, processed 144393 words, keeping 21587 word types\n",
      "2019-10-15 11:21:13,213 : INFO : PROGRESS: at sentence #30000, processed 215826 words, keeping 27541 word types\n",
      "2019-10-15 11:21:13,241 : INFO : PROGRESS: at sentence #40000, processed 288271 words, keeping 32764 word types\n",
      "2019-10-15 11:21:13,273 : INFO : PROGRESS: at sentence #50000, processed 359772 words, keeping 37587 word types\n",
      "2019-10-15 11:21:13,305 : INFO : PROGRESS: at sentence #60000, processed 431431 words, keeping 42198 word types\n",
      "2019-10-15 11:21:13,337 : INFO : PROGRESS: at sentence #70000, processed 503103 words, keeping 46458 word types\n",
      "2019-10-15 11:21:13,365 : INFO : PROGRESS: at sentence #80000, processed 575709 words, keeping 50476 word types\n",
      "2019-10-15 11:21:13,389 : INFO : PROGRESS: at sentence #90000, processed 647100 words, keeping 54140 word types\n",
      "2019-10-15 11:21:13,425 : INFO : PROGRESS: at sentence #100000, processed 718681 words, keeping 57777 word types\n",
      "2019-10-15 11:21:13,453 : INFO : PROGRESS: at sentence #110000, processed 790696 words, keeping 61207 word types\n",
      "2019-10-15 11:21:13,481 : INFO : PROGRESS: at sentence #120000, processed 863134 words, keeping 64583 word types\n",
      "2019-10-15 11:21:13,518 : INFO : PROGRESS: at sentence #130000, processed 935111 words, keeping 67865 word types\n",
      "2019-10-15 11:21:13,549 : INFO : PROGRESS: at sentence #140000, processed 1006668 words, keeping 70966 word types\n",
      "2019-10-15 11:21:13,581 : INFO : PROGRESS: at sentence #150000, processed 1078512 words, keeping 74119 word types\n",
      "2019-10-15 11:21:13,617 : INFO : PROGRESS: at sentence #160000, processed 1149914 words, keeping 77187 word types\n",
      "2019-10-15 11:21:13,645 : INFO : PROGRESS: at sentence #170000, processed 1222145 words, keeping 80267 word types\n",
      "2019-10-15 11:21:13,677 : INFO : PROGRESS: at sentence #180000, processed 1294708 words, keeping 83393 word types\n",
      "2019-10-15 11:21:13,709 : INFO : PROGRESS: at sentence #190000, processed 1367608 words, keeping 86329 word types\n",
      "2019-10-15 11:21:13,741 : INFO : PROGRESS: at sentence #200000, processed 1439469 words, keeping 89103 word types\n",
      "2019-10-15 11:21:13,769 : INFO : PROGRESS: at sentence #210000, processed 1512099 words, keeping 91840 word types\n",
      "2019-10-15 11:21:13,797 : INFO : PROGRESS: at sentence #220000, processed 1584149 words, keeping 94636 word types\n",
      "2019-10-15 11:21:13,825 : INFO : PROGRESS: at sentence #230000, processed 1656354 words, keeping 97353 word types\n",
      "2019-10-15 11:21:13,861 : INFO : PROGRESS: at sentence #240000, processed 1728573 words, keeping 99975 word types\n",
      "2019-10-15 11:21:13,889 : INFO : PROGRESS: at sentence #250000, processed 1801102 words, keeping 102594 word types\n",
      "2019-10-15 11:21:13,921 : INFO : PROGRESS: at sentence #260000, processed 1873103 words, keeping 105162 word types\n",
      "2019-10-15 11:21:13,953 : INFO : PROGRESS: at sentence #270000, processed 1945245 words, keeping 107626 word types\n",
      "2019-10-15 11:21:13,981 : INFO : PROGRESS: at sentence #280000, processed 2017163 words, keeping 110141 word types\n",
      "2019-10-15 11:21:14,013 : INFO : PROGRESS: at sentence #290000, processed 2089574 words, keeping 112539 word types\n",
      "2019-10-15 11:21:14,045 : INFO : PROGRESS: at sentence #300000, processed 2160996 words, keeping 114893 word types\n",
      "2019-10-15 11:21:14,073 : INFO : PROGRESS: at sentence #310000, processed 2232913 words, keeping 117298 word types\n",
      "2019-10-15 11:21:14,101 : INFO : PROGRESS: at sentence #320000, processed 2305039 words, keeping 119693 word types\n",
      "2019-10-15 11:21:14,129 : INFO : PROGRESS: at sentence #330000, processed 2377119 words, keeping 122131 word types\n",
      "2019-10-15 11:21:14,177 : INFO : PROGRESS: at sentence #340000, processed 2449370 words, keeping 124416 word types\n",
      "2019-10-15 11:21:14,201 : INFO : PROGRESS: at sentence #350000, processed 2521564 words, keeping 126669 word types\n",
      "2019-10-15 11:21:14,225 : INFO : PROGRESS: at sentence #360000, processed 2593681 words, keeping 128912 word types\n",
      "2019-10-15 11:21:14,240 : INFO : PROGRESS: at sentence #370000, processed 2665692 words, keeping 131135 word types\n",
      "2019-10-15 11:21:14,272 : INFO : PROGRESS: at sentence #380000, processed 2737859 words, keeping 133403 word types\n",
      "2019-10-15 11:21:14,287 : INFO : PROGRESS: at sentence #390000, processed 2809848 words, keeping 135551 word types\n",
      "2019-10-15 11:21:14,319 : INFO : PROGRESS: at sentence #400000, processed 2882438 words, keeping 137742 word types\n",
      "2019-10-15 11:21:14,334 : INFO : PROGRESS: at sentence #410000, processed 2954075 words, keeping 139909 word types\n",
      "2019-10-15 11:21:14,381 : INFO : PROGRESS: at sentence #420000, processed 3026247 words, keeping 142144 word types\n",
      "2019-10-15 11:21:14,409 : INFO : PROGRESS: at sentence #430000, processed 3098659 words, keeping 144364 word types\n",
      "2019-10-15 11:21:14,433 : INFO : PROGRESS: at sentence #440000, processed 3170663 words, keeping 146439 word types\n",
      "2019-10-15 11:21:14,458 : INFO : PROGRESS: at sentence #450000, processed 3243344 words, keeping 148526 word types\n",
      "2019-10-15 11:21:14,498 : INFO : PROGRESS: at sentence #460000, processed 3315466 words, keeping 150610 word types\n",
      "2019-10-15 11:21:14,534 : INFO : PROGRESS: at sentence #470000, processed 3388295 words, keeping 152737 word types\n",
      "2019-10-15 11:21:14,578 : INFO : PROGRESS: at sentence #480000, processed 3460120 words, keeping 154757 word types\n",
      "2019-10-15 11:21:14,606 : INFO : PROGRESS: at sentence #490000, processed 3531883 words, keeping 156825 word types\n",
      "2019-10-15 11:21:14,646 : INFO : PROGRESS: at sentence #500000, processed 3604217 words, keeping 158859 word types\n",
      "2019-10-15 11:21:14,682 : INFO : PROGRESS: at sentence #510000, processed 3676427 words, keeping 160852 word types\n",
      "2019-10-15 11:21:14,714 : INFO : PROGRESS: at sentence #520000, processed 3749045 words, keeping 162863 word types\n",
      "2019-10-15 11:21:14,754 : INFO : PROGRESS: at sentence #530000, processed 3821622 words, keeping 164929 word types\n",
      "2019-10-15 11:21:14,786 : INFO : PROGRESS: at sentence #540000, processed 3893627 words, keeping 166840 word types\n",
      "2019-10-15 11:21:14,826 : INFO : PROGRESS: at sentence #550000, processed 3965477 words, keeping 168799 word types\n",
      "2019-10-15 11:21:14,862 : INFO : PROGRESS: at sentence #560000, processed 4038050 words, keeping 170802 word types\n",
      "2019-10-15 11:21:14,898 : INFO : PROGRESS: at sentence #570000, processed 4110296 words, keeping 172760 word types\n",
      "2019-10-15 11:21:14,938 : INFO : PROGRESS: at sentence #580000, processed 4182385 words, keeping 174635 word types\n",
      "2019-10-15 11:21:14,990 : INFO : PROGRESS: at sentence #590000, processed 4254632 words, keeping 176470 word types\n",
      "2019-10-15 11:21:15,026 : INFO : PROGRESS: at sentence #600000, processed 4326859 words, keeping 178350 word types\n",
      "2019-10-15 11:21:15,058 : INFO : PROGRESS: at sentence #610000, processed 4399183 words, keeping 180290 word types\n",
      "2019-10-15 11:21:15,086 : INFO : PROGRESS: at sentence #620000, processed 4471343 words, keeping 182129 word types\n",
      "2019-10-15 11:21:15,114 : INFO : PROGRESS: at sentence #630000, processed 4543286 words, keeping 184005 word types\n",
      "2019-10-15 11:21:15,146 : INFO : PROGRESS: at sentence #640000, processed 4615780 words, keeping 185835 word types\n",
      "2019-10-15 11:21:15,182 : INFO : PROGRESS: at sentence #650000, processed 4688481 words, keeping 187705 word types\n",
      "2019-10-15 11:21:15,210 : INFO : PROGRESS: at sentence #660000, processed 4760481 words, keeping 189439 word types\n",
      "2019-10-15 11:21:15,238 : INFO : PROGRESS: at sentence #670000, processed 4833024 words, keeping 191232 word types\n",
      "2019-10-15 11:21:15,270 : INFO : PROGRESS: at sentence #680000, processed 4904516 words, keeping 193177 word types\n",
      "2019-10-15 11:21:15,298 : INFO : PROGRESS: at sentence #690000, processed 4976968 words, keeping 194960 word types\n",
      "2019-10-15 11:21:15,330 : INFO : PROGRESS: at sentence #700000, processed 5049412 words, keeping 196725 word types\n",
      "2019-10-15 11:21:15,387 : INFO : PROGRESS: at sentence #710000, processed 5121976 words, keeping 198516 word types\n"
     ]
    },
    {
     "name": "stderr",
     "output_type": "stream",
     "text": [
      "2019-10-15 11:21:15,415 : INFO : PROGRESS: at sentence #720000, processed 5193881 words, keeping 200325 word types\n",
      "2019-10-15 11:21:15,455 : INFO : PROGRESS: at sentence #730000, processed 5265467 words, keeping 202133 word types\n",
      "2019-10-15 11:21:15,487 : INFO : PROGRESS: at sentence #740000, processed 5337518 words, keeping 203818 word types\n",
      "2019-10-15 11:21:15,519 : INFO : PROGRESS: at sentence #750000, processed 5409321 words, keeping 205535 word types\n",
      "2019-10-15 11:21:15,547 : INFO : PROGRESS: at sentence #760000, processed 5481512 words, keeping 207282 word types\n",
      "2019-10-15 11:21:15,583 : INFO : PROGRESS: at sentence #770000, processed 5554093 words, keeping 209076 word types\n",
      "2019-10-15 11:21:15,611 : INFO : PROGRESS: at sentence #780000, processed 5625382 words, keeping 210805 word types\n",
      "2019-10-15 11:21:15,639 : INFO : PROGRESS: at sentence #790000, processed 5698066 words, keeping 212618 word types\n",
      "2019-10-15 11:21:15,679 : INFO : PROGRESS: at sentence #800000, processed 5770880 words, keeping 214374 word types\n",
      "2019-10-15 11:21:15,731 : INFO : PROGRESS: at sentence #810000, processed 5843418 words, keeping 216009 word types\n",
      "2019-10-15 11:21:15,779 : INFO : PROGRESS: at sentence #820000, processed 5915628 words, keeping 217804 word types\n",
      "2019-10-15 11:21:15,811 : INFO : PROGRESS: at sentence #830000, processed 5987499 words, keeping 219585 word types\n",
      "2019-10-15 11:21:15,843 : INFO : PROGRESS: at sentence #840000, processed 6058973 words, keeping 221344 word types\n",
      "2019-10-15 11:21:15,879 : INFO : PROGRESS: at sentence #850000, processed 6131125 words, keeping 223002 word types\n",
      "2019-10-15 11:21:15,911 : INFO : PROGRESS: at sentence #860000, processed 6202951 words, keeping 224643 word types\n",
      "2019-10-15 11:21:15,943 : INFO : PROGRESS: at sentence #870000, processed 6275461 words, keeping 226362 word types\n",
      "2019-10-15 11:21:15,971 : INFO : PROGRESS: at sentence #880000, processed 6347661 words, keeping 227986 word types\n",
      "2019-10-15 11:21:15,999 : INFO : PROGRESS: at sentence #890000, processed 6419806 words, keeping 229634 word types\n",
      "2019-10-15 11:21:16,031 : INFO : PROGRESS: at sentence #900000, processed 6491644 words, keeping 231389 word types\n",
      "2019-10-15 11:21:16,063 : INFO : PROGRESS: at sentence #910000, processed 6564022 words, keeping 233050 word types\n",
      "2019-10-15 11:21:16,095 : INFO : PROGRESS: at sentence #920000, processed 6636228 words, keeping 234686 word types\n",
      "2019-10-15 11:21:16,127 : INFO : PROGRESS: at sentence #930000, processed 6708573 words, keeping 236393 word types\n",
      "2019-10-15 11:21:16,159 : INFO : PROGRESS: at sentence #940000, processed 6779956 words, keeping 238052 word types\n",
      "2019-10-15 11:21:16,187 : INFO : PROGRESS: at sentence #950000, processed 6852599 words, keeping 239716 word types\n",
      "2019-10-15 11:21:16,219 : INFO : PROGRESS: at sentence #960000, processed 6924717 words, keeping 241354 word types\n",
      "2019-10-15 11:21:16,247 : INFO : PROGRESS: at sentence #970000, processed 6996992 words, keeping 242980 word types\n",
      "2019-10-15 11:21:16,279 : INFO : PROGRESS: at sentence #980000, processed 7068402 words, keeping 244646 word types\n",
      "2019-10-15 11:21:16,311 : INFO : PROGRESS: at sentence #990000, processed 7140346 words, keeping 246186 word types\n",
      "2019-10-15 11:21:16,335 : INFO : PROGRESS: at sentence #1000000, processed 7211757 words, keeping 247726 word types\n",
      "2019-10-15 11:21:16,363 : INFO : PROGRESS: at sentence #1010000, processed 7283267 words, keeping 249288 word types\n",
      "2019-10-15 11:21:16,395 : INFO : PROGRESS: at sentence #1020000, processed 7355299 words, keeping 250860 word types\n",
      "2019-10-15 11:21:16,423 : INFO : PROGRESS: at sentence #1030000, processed 7426918 words, keeping 252366 word types\n",
      "2019-10-15 11:21:16,451 : INFO : PROGRESS: at sentence #1040000, processed 7498815 words, keeping 253930 word types\n",
      "2019-10-15 11:21:16,479 : INFO : PROGRESS: at sentence #1050000, processed 7570499 words, keeping 255471 word types\n",
      "2019-10-15 11:21:16,515 : INFO : PROGRESS: at sentence #1060000, processed 7643251 words, keeping 257035 word types\n",
      "2019-10-15 11:21:16,551 : INFO : PROGRESS: at sentence #1070000, processed 7714721 words, keeping 258509 word types\n",
      "2019-10-15 11:21:16,583 : INFO : PROGRESS: at sentence #1080000, processed 7787371 words, keeping 260071 word types\n",
      "2019-10-15 11:21:16,611 : INFO : PROGRESS: at sentence #1090000, processed 7859336 words, keeping 261683 word types\n",
      "2019-10-15 11:21:16,635 : INFO : PROGRESS: at sentence #1100000, processed 7932029 words, keeping 263278 word types\n",
      "2019-10-15 11:21:16,663 : INFO : PROGRESS: at sentence #1110000, processed 8004146 words, keeping 264800 word types\n",
      "2019-10-15 11:21:16,691 : INFO : PROGRESS: at sentence #1120000, processed 8075880 words, keeping 266309 word types\n",
      "2019-10-15 11:21:16,719 : INFO : PROGRESS: at sentence #1130000, processed 8148163 words, keeping 267826 word types\n",
      "2019-10-15 11:21:16,755 : INFO : PROGRESS: at sentence #1140000, processed 8220487 words, keeping 269391 word types\n",
      "2019-10-15 11:21:16,783 : INFO : PROGRESS: at sentence #1150000, processed 8292498 words, keeping 270894 word types\n",
      "2019-10-15 11:21:16,811 : INFO : PROGRESS: at sentence #1160000, processed 8363838 words, keeping 272400 word types\n",
      "2019-10-15 11:21:16,839 : INFO : PROGRESS: at sentence #1170000, processed 8435510 words, keeping 273970 word types\n",
      "2019-10-15 11:21:16,867 : INFO : PROGRESS: at sentence #1180000, processed 8507795 words, keeping 275521 word types\n",
      "2019-10-15 11:21:16,895 : INFO : PROGRESS: at sentence #1190000, processed 8579080 words, keeping 277007 word types\n",
      "2019-10-15 11:21:16,920 : INFO : PROGRESS: at sentence #1200000, processed 8650606 words, keeping 278457 word types\n",
      "2019-10-15 11:21:16,948 : INFO : PROGRESS: at sentence #1210000, processed 8721893 words, keeping 279959 word types\n",
      "2019-10-15 11:21:16,976 : INFO : PROGRESS: at sentence #1220000, processed 8793795 words, keeping 281427 word types\n",
      "2019-10-15 11:21:17,004 : INFO : PROGRESS: at sentence #1230000, processed 8865726 words, keeping 282981 word types\n",
      "2019-10-15 11:21:17,032 : INFO : PROGRESS: at sentence #1240000, processed 8938173 words, keeping 284542 word types\n",
      "2019-10-15 11:21:17,056 : INFO : PROGRESS: at sentence #1250000, processed 9010842 words, keeping 286064 word types\n",
      "2019-10-15 11:21:17,084 : INFO : PROGRESS: at sentence #1260000, processed 9083261 words, keeping 287521 word types\n",
      "2019-10-15 11:21:17,116 : INFO : PROGRESS: at sentence #1270000, processed 9155616 words, keeping 288987 word types\n",
      "2019-10-15 11:21:17,148 : INFO : collected 290418 word types from a corpus of 9227204 raw words and 1280000 sentences\n",
      "2019-10-15 11:21:17,148 : INFO : Loading a fresh vocabulary\n",
      "2019-10-15 11:21:17,318 : INFO : effective_min_count=10 retains 30369 unique words (10% of original 290418, drops 260049)\n",
      "2019-10-15 11:21:17,318 : INFO : effective_min_count=10 leaves 8780739 word corpus (95% of original 9227204, drops 446465)\n",
      "2019-10-15 11:21:17,439 : INFO : deleting the raw counts dictionary of 290418 items\n",
      "2019-10-15 11:21:17,456 : INFO : sample=0.001 downsamples 45 most-common words\n",
      "2019-10-15 11:21:17,456 : INFO : downsampling leaves estimated 8222658 word corpus (93.6% of prior 8780739)\n",
      "2019-10-15 11:21:17,556 : INFO : estimated required memory for 30369 words and 300 dimensions: 88070100 bytes\n",
      "2019-10-15 11:21:17,572 : INFO : resetting layer weights\n"
     ]
    }
   ],
   "source": [
    "w2v_model.build_vocab(documents)"
   ]
  },
  {
   "cell_type": "code",
   "execution_count": 20,
   "metadata": {},
   "outputs": [
    {
     "name": "stdout",
     "output_type": "stream",
     "text": [
      "Vocab size 30369\n"
     ]
    }
   ],
   "source": [
    "words = w2v_model.wv.vocab.keys()\n",
    "vocab_size = len(words)\n",
    "print(\"Vocab size\", vocab_size)"
   ]
  },
  {
   "cell_type": "code",
   "execution_count": 21,
   "metadata": {},
   "outputs": [
    {
     "name": "stderr",
     "output_type": "stream",
     "text": [
      "2019-10-15 11:22:28,881 : INFO : training model with 8 workers on 30369 vocabulary and 300 features, using sg=0 hs=0 sample=0.001 negative=5 window=7\n",
      "2019-10-15 11:22:29,987 : INFO : EPOCH 1 - PROGRESS: at 6.30% examples, 507601 words/s, in_qsize 15, out_qsize 0\n",
      "2019-10-15 11:22:30,987 : INFO : EPOCH 1 - PROGRESS: at 13.79% examples, 559824 words/s, in_qsize 16, out_qsize 0\n",
      "2019-10-15 11:22:32,011 : INFO : EPOCH 1 - PROGRESS: at 21.46% examples, 579748 words/s, in_qsize 14, out_qsize 1\n",
      "2019-10-15 11:22:33,019 : INFO : EPOCH 1 - PROGRESS: at 29.05% examples, 589835 words/s, in_qsize 15, out_qsize 0\n",
      "2019-10-15 11:22:34,078 : INFO : EPOCH 1 - PROGRESS: at 36.51% examples, 586680 words/s, in_qsize 16, out_qsize 0\n",
      "2019-10-15 11:22:35,114 : INFO : EPOCH 1 - PROGRESS: at 44.51% examples, 594751 words/s, in_qsize 15, out_qsize 0\n",
      "2019-10-15 11:22:36,166 : INFO : EPOCH 1 - PROGRESS: at 52.51% examples, 600261 words/s, in_qsize 16, out_qsize 0\n",
      "2019-10-15 11:22:37,174 : INFO : EPOCH 1 - PROGRESS: at 60.30% examples, 604690 words/s, in_qsize 15, out_qsize 0\n",
      "2019-10-15 11:22:38,196 : INFO : EPOCH 1 - PROGRESS: at 68.10% examples, 607251 words/s, in_qsize 15, out_qsize 0\n",
      "2019-10-15 11:22:39,250 : INFO : EPOCH 1 - PROGRESS: at 76.11% examples, 609192 words/s, in_qsize 15, out_qsize 1\n",
      "2019-10-15 11:22:40,249 : INFO : EPOCH 1 - PROGRESS: at 84.37% examples, 615127 words/s, in_qsize 15, out_qsize 0\n",
      "2019-10-15 11:22:41,298 : INFO : EPOCH 1 - PROGRESS: at 92.28% examples, 615320 words/s, in_qsize 15, out_qsize 0\n",
      "2019-10-15 11:22:42,229 : INFO : worker thread finished; awaiting finish of 7 more threads\n",
      "2019-10-15 11:22:42,229 : INFO : worker thread finished; awaiting finish of 6 more threads\n",
      "2019-10-15 11:22:42,233 : INFO : worker thread finished; awaiting finish of 5 more threads\n",
      "2019-10-15 11:22:42,241 : INFO : worker thread finished; awaiting finish of 4 more threads\n",
      "2019-10-15 11:22:42,241 : INFO : worker thread finished; awaiting finish of 3 more threads\n",
      "2019-10-15 11:22:42,245 : INFO : worker thread finished; awaiting finish of 2 more threads\n",
      "2019-10-15 11:22:42,245 : INFO : worker thread finished; awaiting finish of 1 more threads\n",
      "2019-10-15 11:22:42,253 : INFO : worker thread finished; awaiting finish of 0 more threads\n",
      "2019-10-15 11:22:42,253 : INFO : EPOCH - 1 : training on 9227204 raw words (8222395 effective words) took 13.3s, 618936 effective words/s\n",
      "2019-10-15 11:22:43,292 : INFO : EPOCH 2 - PROGRESS: at 7.28% examples, 575135 words/s, in_qsize 15, out_qsize 0\n",
      "2019-10-15 11:22:44,365 : INFO : EPOCH 2 - PROGRESS: at 15.19% examples, 595116 words/s, in_qsize 15, out_qsize 0\n",
      "2019-10-15 11:22:45,377 : INFO : EPOCH 2 - PROGRESS: at 21.46% examples, 567186 words/s, in_qsize 16, out_qsize 2\n",
      "2019-10-15 11:22:46,433 : INFO : EPOCH 2 - PROGRESS: at 29.37% examples, 579719 words/s, in_qsize 15, out_qsize 0\n",
      "2019-10-15 11:22:47,473 : INFO : EPOCH 2 - PROGRESS: at 35.97% examples, 568264 words/s, in_qsize 16, out_qsize 1\n",
      "2019-10-15 11:22:48,528 : INFO : EPOCH 2 - PROGRESS: at 43.32% examples, 569315 words/s, in_qsize 16, out_qsize 0\n",
      "2019-10-15 11:22:49,531 : INFO : EPOCH 2 - PROGRESS: at 51.21% examples, 580050 words/s, in_qsize 14, out_qsize 1\n",
      "2019-10-15 11:22:50,543 : INFO : EPOCH 2 - PROGRESS: at 57.92% examples, 575850 words/s, in_qsize 16, out_qsize 0\n",
      "2019-10-15 11:22:51,559 : INFO : EPOCH 2 - PROGRESS: at 65.27% examples, 578167 words/s, in_qsize 15, out_qsize 0\n",
      "2019-10-15 11:22:52,576 : INFO : EPOCH 2 - PROGRESS: at 71.99% examples, 574652 words/s, in_qsize 16, out_qsize 0\n",
      "2019-10-15 11:22:53,619 : INFO : EPOCH 2 - PROGRESS: at 79.49% examples, 575979 words/s, in_qsize 15, out_qsize 0\n",
      "2019-10-15 11:22:54,625 : INFO : EPOCH 2 - PROGRESS: at 86.09% examples, 573066 words/s, in_qsize 15, out_qsize 0\n",
      "2019-10-15 11:22:55,635 : INFO : EPOCH 2 - PROGRESS: at 93.05% examples, 572348 words/s, in_qsize 14, out_qsize 1\n",
      "2019-10-15 11:22:56,539 : INFO : worker thread finished; awaiting finish of 7 more threads\n",
      "2019-10-15 11:22:56,539 : INFO : worker thread finished; awaiting finish of 6 more threads\n",
      "2019-10-15 11:22:56,555 : INFO : worker thread finished; awaiting finish of 5 more threads\n",
      "2019-10-15 11:22:56,570 : INFO : worker thread finished; awaiting finish of 4 more threads\n",
      "2019-10-15 11:22:56,574 : INFO : worker thread finished; awaiting finish of 3 more threads\n",
      "2019-10-15 11:22:56,582 : INFO : worker thread finished; awaiting finish of 2 more threads\n",
      "2019-10-15 11:22:56,590 : INFO : worker thread finished; awaiting finish of 1 more threads\n",
      "2019-10-15 11:22:56,594 : INFO : worker thread finished; awaiting finish of 0 more threads\n",
      "2019-10-15 11:22:56,594 : INFO : EPOCH - 2 : training on 9227204 raw words (8222931 effective words) took 14.3s, 573961 effective words/s\n",
      "2019-10-15 11:22:57,615 : INFO : EPOCH 3 - PROGRESS: at 7.06% examples, 572416 words/s, in_qsize 15, out_qsize 0\n",
      "2019-10-15 11:22:58,622 : INFO : EPOCH 3 - PROGRESS: at 14.00% examples, 569284 words/s, in_qsize 14, out_qsize 1\n",
      "2019-10-15 11:22:59,648 : INFO : EPOCH 3 - PROGRESS: at 20.49% examples, 554478 words/s, in_qsize 15, out_qsize 0\n",
      "2019-10-15 11:23:00,656 : INFO : EPOCH 3 - PROGRESS: at 27.97% examples, 567318 words/s, in_qsize 15, out_qsize 0\n",
      "2019-10-15 11:23:01,668 : INFO : EPOCH 3 - PROGRESS: at 35.43% examples, 576052 words/s, in_qsize 16, out_qsize 1\n",
      "2019-10-15 11:23:02,683 : INFO : EPOCH 3 - PROGRESS: at 43.10% examples, 584122 words/s, in_qsize 11, out_qsize 4\n",
      "2019-10-15 11:23:03,684 : INFO : EPOCH 3 - PROGRESS: at 50.13% examples, 583233 words/s, in_qsize 16, out_qsize 0\n",
      "2019-10-15 11:23:04,688 : INFO : EPOCH 3 - PROGRESS: at 57.71% examples, 587288 words/s, in_qsize 14, out_qsize 1\n",
      "2019-10-15 11:23:05,738 : INFO : EPOCH 3 - PROGRESS: at 64.62% examples, 582770 words/s, in_qsize 16, out_qsize 1\n",
      "2019-10-15 11:23:06,759 : INFO : EPOCH 3 - PROGRESS: at 72.43% examples, 587330 words/s, in_qsize 15, out_qsize 0\n",
      "2019-10-15 11:23:07,786 : INFO : EPOCH 3 - PROGRESS: at 80.25% examples, 590797 words/s, in_qsize 16, out_qsize 0\n",
      "2019-10-15 11:23:08,789 : INFO : EPOCH 3 - PROGRESS: at 87.51% examples, 591055 words/s, in_qsize 15, out_qsize 0\n",
      "2019-10-15 11:23:09,799 : INFO : EPOCH 3 - PROGRESS: at 94.79% examples, 591057 words/s, in_qsize 15, out_qsize 0\n",
      "2019-10-15 11:23:10,407 : INFO : worker thread finished; awaiting finish of 7 more threads\n",
      "2019-10-15 11:23:10,411 : INFO : worker thread finished; awaiting finish of 6 more threads\n",
      "2019-10-15 11:23:10,415 : INFO : worker thread finished; awaiting finish of 5 more threads\n",
      "2019-10-15 11:23:10,423 : INFO : worker thread finished; awaiting finish of 4 more threads\n",
      "2019-10-15 11:23:10,447 : INFO : worker thread finished; awaiting finish of 3 more threads\n",
      "2019-10-15 11:23:10,451 : INFO : worker thread finished; awaiting finish of 2 more threads\n",
      "2019-10-15 11:23:10,459 : INFO : worker thread finished; awaiting finish of 1 more threads\n",
      "2019-10-15 11:23:10,479 : INFO : worker thread finished; awaiting finish of 0 more threads\n",
      "2019-10-15 11:23:10,483 : INFO : EPOCH - 3 : training on 9227204 raw words (8222963 effective words) took 13.9s, 592858 effective words/s\n",
      "2019-10-15 11:23:11,559 : INFO : EPOCH 4 - PROGRESS: at 7.17% examples, 553706 words/s, in_qsize 16, out_qsize 0\n",
      "2019-10-15 11:23:12,563 : INFO : EPOCH 4 - PROGRESS: at 15.08% examples, 600188 words/s, in_qsize 15, out_qsize 0\n",
      "2019-10-15 11:23:13,562 : INFO : EPOCH 4 - PROGRESS: at 22.22% examples, 595971 words/s, in_qsize 15, out_qsize 0\n",
      "2019-10-15 11:23:14,590 : INFO : EPOCH 4 - PROGRESS: at 29.37% examples, 590356 words/s, in_qsize 15, out_qsize 0\n",
      "2019-10-15 11:23:15,598 : INFO : EPOCH 4 - PROGRESS: at 36.40% examples, 587140 words/s, in_qsize 15, out_qsize 0\n",
      "2019-10-15 11:23:16,602 : INFO : EPOCH 4 - PROGRESS: at 43.86% examples, 591082 words/s, in_qsize 15, out_qsize 0\n",
      "2019-10-15 11:23:17,610 : INFO : EPOCH 4 - PROGRESS: at 51.32% examples, 593848 words/s, in_qsize 15, out_qsize 0\n",
      "2019-10-15 11:23:18,616 : INFO : EPOCH 4 - PROGRESS: at 58.36% examples, 591789 words/s, in_qsize 15, out_qsize 0\n",
      "2019-10-15 11:23:19,675 : INFO : EPOCH 4 - PROGRESS: at 65.72% examples, 589378 words/s, in_qsize 15, out_qsize 0\n",
      "2019-10-15 11:23:20,728 : INFO : EPOCH 4 - PROGRESS: at 73.51% examples, 591279 words/s, in_qsize 15, out_qsize 0\n"
     ]
    },
    {
     "name": "stderr",
     "output_type": "stream",
     "text": [
      "2019-10-15 11:23:21,730 : INFO : EPOCH 4 - PROGRESS: at 81.01% examples, 593260 words/s, in_qsize 15, out_qsize 0\n",
      "2019-10-15 11:23:22,790 : INFO : EPOCH 4 - PROGRESS: at 88.48% examples, 592198 words/s, in_qsize 15, out_qsize 0\n",
      "2019-10-15 11:23:23,789 : INFO : EPOCH 4 - PROGRESS: at 95.45% examples, 590476 words/s, in_qsize 15, out_qsize 0\n",
      "2019-10-15 11:23:24,453 : INFO : worker thread finished; awaiting finish of 7 more threads\n",
      "2019-10-15 11:23:24,489 : INFO : worker thread finished; awaiting finish of 6 more threads\n",
      "2019-10-15 11:23:24,493 : INFO : worker thread finished; awaiting finish of 5 more threads\n",
      "2019-10-15 11:23:24,517 : INFO : worker thread finished; awaiting finish of 4 more threads\n",
      "2019-10-15 11:23:24,521 : INFO : worker thread finished; awaiting finish of 3 more threads\n",
      "2019-10-15 11:23:24,521 : INFO : worker thread finished; awaiting finish of 2 more threads\n",
      "2019-10-15 11:23:24,533 : INFO : worker thread finished; awaiting finish of 1 more threads\n",
      "2019-10-15 11:23:24,545 : INFO : worker thread finished; awaiting finish of 0 more threads\n",
      "2019-10-15 11:23:24,545 : INFO : EPOCH - 4 : training on 9227204 raw words (8222875 effective words) took 14.0s, 585336 effective words/s\n",
      "2019-10-15 11:23:25,569 : INFO : EPOCH 5 - PROGRESS: at 4.89% examples, 398321 words/s, in_qsize 15, out_qsize 0\n",
      "2019-10-15 11:23:26,573 : INFO : EPOCH 5 - PROGRESS: at 10.42% examples, 425654 words/s, in_qsize 16, out_qsize 0\n",
      "2019-10-15 11:23:27,578 : INFO : EPOCH 5 - PROGRESS: at 17.13% examples, 467086 words/s, in_qsize 16, out_qsize 0\n",
      "2019-10-15 11:23:28,574 : INFO : EPOCH 5 - PROGRESS: at 23.85% examples, 487308 words/s, in_qsize 12, out_qsize 3\n",
      "2019-10-15 11:23:29,648 : INFO : EPOCH 5 - PROGRESS: at 31.75% examples, 513558 words/s, in_qsize 15, out_qsize 0\n",
      "2019-10-15 11:23:30,672 : INFO : EPOCH 5 - PROGRESS: at 39.65% examples, 533916 words/s, in_qsize 14, out_qsize 1\n",
      "2019-10-15 11:23:31,672 : INFO : EPOCH 5 - PROGRESS: at 46.35% examples, 536458 words/s, in_qsize 14, out_qsize 1\n",
      "2019-10-15 11:23:32,719 : INFO : EPOCH 5 - PROGRESS: at 54.14% examples, 545638 words/s, in_qsize 13, out_qsize 2\n",
      "2019-10-15 11:23:33,730 : INFO : EPOCH 5 - PROGRESS: at 60.85% examples, 546404 words/s, in_qsize 16, out_qsize 2\n",
      "2019-10-15 11:23:34,738 : INFO : EPOCH 5 - PROGRESS: at 67.77% examples, 548196 words/s, in_qsize 15, out_qsize 0\n",
      "2019-10-15 11:23:35,737 : INFO : EPOCH 5 - PROGRESS: at 74.27% examples, 546315 words/s, in_qsize 15, out_qsize 0\n",
      "2019-10-15 11:23:36,774 : INFO : EPOCH 5 - PROGRESS: at 81.34% examples, 547994 words/s, in_qsize 15, out_qsize 0\n",
      "2019-10-15 11:23:37,814 : INFO : EPOCH 5 - PROGRESS: at 88.80% examples, 551258 words/s, in_qsize 13, out_qsize 2\n",
      "2019-10-15 11:23:38,824 : INFO : EPOCH 5 - PROGRESS: at 96.42% examples, 555935 words/s, in_qsize 14, out_qsize 1\n",
      "2019-10-15 11:23:39,212 : INFO : worker thread finished; awaiting finish of 7 more threads\n",
      "2019-10-15 11:23:39,220 : INFO : worker thread finished; awaiting finish of 6 more threads\n",
      "2019-10-15 11:23:39,224 : INFO : worker thread finished; awaiting finish of 5 more threads\n",
      "2019-10-15 11:23:39,228 : INFO : worker thread finished; awaiting finish of 4 more threads\n",
      "2019-10-15 11:23:39,232 : INFO : worker thread finished; awaiting finish of 3 more threads\n",
      "2019-10-15 11:23:39,244 : INFO : worker thread finished; awaiting finish of 2 more threads\n",
      "2019-10-15 11:23:39,256 : INFO : worker thread finished; awaiting finish of 1 more threads\n",
      "2019-10-15 11:23:39,260 : INFO : worker thread finished; awaiting finish of 0 more threads\n",
      "2019-10-15 11:23:39,264 : INFO : EPOCH - 5 : training on 9227204 raw words (8222091 effective words) took 14.7s, 559454 effective words/s\n",
      "2019-10-15 11:23:40,284 : INFO : EPOCH 6 - PROGRESS: at 7.17% examples, 584830 words/s, in_qsize 13, out_qsize 0\n",
      "2019-10-15 11:23:41,280 : INFO : EPOCH 6 - PROGRESS: at 14.65% examples, 599074 words/s, in_qsize 13, out_qsize 2\n",
      "2019-10-15 11:23:42,306 : INFO : EPOCH 6 - PROGRESS: at 22.65% examples, 614471 words/s, in_qsize 16, out_qsize 1\n",
      "2019-10-15 11:23:43,312 : INFO : EPOCH 6 - PROGRESS: at 29.91% examples, 609182 words/s, in_qsize 12, out_qsize 3\n",
      "2019-10-15 11:23:44,330 : INFO : EPOCH 6 - PROGRESS: at 37.59% examples, 611668 words/s, in_qsize 13, out_qsize 2\n",
      "2019-10-15 11:23:45,341 : INFO : EPOCH 6 - PROGRESS: at 45.16% examples, 612692 words/s, in_qsize 13, out_qsize 2\n",
      "2019-10-15 11:23:46,336 : INFO : EPOCH 6 - PROGRESS: at 52.40% examples, 610374 words/s, in_qsize 15, out_qsize 0\n",
      "2019-10-15 11:23:47,347 : INFO : EPOCH 6 - PROGRESS: at 60.41% examples, 615955 words/s, in_qsize 15, out_qsize 0\n",
      "2019-10-15 11:23:48,379 : INFO : EPOCH 6 - PROGRESS: at 67.66% examples, 611708 words/s, in_qsize 16, out_qsize 0\n",
      "2019-10-15 11:23:49,413 : INFO : EPOCH 6 - PROGRESS: at 75.46% examples, 612147 words/s, in_qsize 15, out_qsize 0\n",
      "2019-10-15 11:23:50,423 : INFO : EPOCH 6 - PROGRESS: at 82.96% examples, 612229 words/s, in_qsize 15, out_qsize 0\n",
      "2019-10-15 11:23:51,426 : INFO : EPOCH 6 - PROGRESS: at 90.76% examples, 614093 words/s, in_qsize 13, out_qsize 2\n",
      "2019-10-15 11:23:52,436 : INFO : EPOCH 6 - PROGRESS: at 98.36% examples, 614662 words/s, in_qsize 15, out_qsize 0\n",
      "2019-10-15 11:23:52,545 : INFO : worker thread finished; awaiting finish of 7 more threads\n",
      "2019-10-15 11:23:52,565 : INFO : worker thread finished; awaiting finish of 6 more threads\n",
      "2019-10-15 11:23:52,569 : INFO : worker thread finished; awaiting finish of 5 more threads\n",
      "2019-10-15 11:23:52,577 : INFO : worker thread finished; awaiting finish of 4 more threads\n",
      "2019-10-15 11:23:52,604 : INFO : worker thread finished; awaiting finish of 3 more threads\n",
      "2019-10-15 11:23:52,604 : INFO : worker thread finished; awaiting finish of 2 more threads\n",
      "2019-10-15 11:23:52,608 : INFO : worker thread finished; awaiting finish of 1 more threads\n",
      "2019-10-15 11:23:52,620 : INFO : worker thread finished; awaiting finish of 0 more threads\n",
      "2019-10-15 11:23:52,624 : INFO : EPOCH - 6 : training on 9227204 raw words (8223020 effective words) took 13.3s, 616133 effective words/s\n",
      "2019-10-15 11:23:53,673 : INFO : EPOCH 7 - PROGRESS: at 6.73% examples, 534330 words/s, in_qsize 14, out_qsize 1\n",
      "2019-10-15 11:23:54,677 : INFO : EPOCH 7 - PROGRESS: at 14.75% examples, 594395 words/s, in_qsize 15, out_qsize 0\n",
      "2019-10-15 11:23:55,701 : INFO : EPOCH 7 - PROGRESS: at 22.11% examples, 593223 words/s, in_qsize 15, out_qsize 0\n",
      "2019-10-15 11:23:56,699 : INFO : EPOCH 7 - PROGRESS: at 29.91% examples, 603807 words/s, in_qsize 13, out_qsize 2\n",
      "2019-10-15 11:23:57,722 : INFO : EPOCH 7 - PROGRESS: at 37.48% examples, 606343 words/s, in_qsize 15, out_qsize 0\n",
      "2019-10-15 11:23:58,723 : INFO : EPOCH 7 - PROGRESS: at 45.05% examples, 608913 words/s, in_qsize 15, out_qsize 0\n",
      "2019-10-15 11:23:59,755 : INFO : EPOCH 7 - PROGRESS: at 51.53% examples, 595969 words/s, in_qsize 15, out_qsize 0\n",
      "2019-10-15 11:24:00,768 : INFO : EPOCH 7 - PROGRESS: at 58.47% examples, 591677 words/s, in_qsize 15, out_qsize 0\n",
      "2019-10-15 11:24:01,784 : INFO : EPOCH 7 - PROGRESS: at 63.54% examples, 571687 words/s, in_qsize 15, out_qsize 0\n",
      "2019-10-15 11:24:02,800 : INFO : EPOCH 7 - PROGRESS: at 69.29% examples, 561077 words/s, in_qsize 15, out_qsize 3\n",
      "2019-10-15 11:24:03,847 : INFO : EPOCH 7 - PROGRESS: at 75.68% examples, 555535 words/s, in_qsize 16, out_qsize 0\n",
      "2019-10-15 11:24:04,879 : INFO : EPOCH 7 - PROGRESS: at 81.66% examples, 548719 words/s, in_qsize 16, out_qsize 0\n",
      "2019-10-15 11:24:05,899 : INFO : EPOCH 7 - PROGRESS: at 87.40% examples, 542056 words/s, in_qsize 15, out_qsize 0\n",
      "2019-10-15 11:24:06,915 : INFO : EPOCH 7 - PROGRESS: at 92.82% examples, 534711 words/s, in_qsize 16, out_qsize 0\n",
      "2019-10-15 11:24:07,939 : INFO : EPOCH 7 - PROGRESS: at 98.69% examples, 530284 words/s, in_qsize 13, out_qsize 0\n",
      "2019-10-15 11:24:07,999 : INFO : worker thread finished; awaiting finish of 7 more threads\n",
      "2019-10-15 11:24:08,007 : INFO : worker thread finished; awaiting finish of 6 more threads\n",
      "2019-10-15 11:24:08,011 : INFO : worker thread finished; awaiting finish of 5 more threads\n",
      "2019-10-15 11:24:08,019 : INFO : worker thread finished; awaiting finish of 4 more threads\n",
      "2019-10-15 11:24:08,039 : INFO : worker thread finished; awaiting finish of 3 more threads\n",
      "2019-10-15 11:24:08,043 : INFO : worker thread finished; awaiting finish of 2 more threads\n"
     ]
    },
    {
     "name": "stderr",
     "output_type": "stream",
     "text": [
      "2019-10-15 11:24:08,051 : INFO : worker thread finished; awaiting finish of 1 more threads\n",
      "2019-10-15 11:24:08,067 : INFO : worker thread finished; awaiting finish of 0 more threads\n",
      "2019-10-15 11:24:08,071 : INFO : EPOCH - 7 : training on 9227204 raw words (8222330 effective words) took 15.4s, 532829 effective words/s\n",
      "2019-10-15 11:24:09,153 : INFO : EPOCH 8 - PROGRESS: at 7.27% examples, 560981 words/s, in_qsize 15, out_qsize 0\n",
      "2019-10-15 11:24:10,173 : INFO : EPOCH 8 - PROGRESS: at 15.52% examples, 608330 words/s, in_qsize 12, out_qsize 3\n",
      "2019-10-15 11:24:11,191 : INFO : EPOCH 8 - PROGRESS: at 23.31% examples, 617115 words/s, in_qsize 15, out_qsize 0\n",
      "2019-10-15 11:24:12,189 : INFO : EPOCH 8 - PROGRESS: at 31.10% examples, 621930 words/s, in_qsize 15, out_qsize 0\n",
      "2019-10-15 11:24:13,197 : INFO : EPOCH 8 - PROGRESS: at 38.35% examples, 616133 words/s, in_qsize 13, out_qsize 2\n",
      "2019-10-15 11:24:14,239 : INFO : EPOCH 8 - PROGRESS: at 46.13% examples, 617100 words/s, in_qsize 16, out_qsize 0\n",
      "2019-10-15 11:24:15,251 : INFO : EPOCH 8 - PROGRESS: at 53.92% examples, 619326 words/s, in_qsize 14, out_qsize 1\n",
      "2019-10-15 11:24:16,259 : INFO : EPOCH 8 - PROGRESS: at 61.18% examples, 616019 words/s, in_qsize 15, out_qsize 0\n",
      "2019-10-15 11:24:17,275 : INFO : EPOCH 8 - PROGRESS: at 68.75% examples, 615605 words/s, in_qsize 16, out_qsize 0\n",
      "2019-10-15 11:24:18,287 : INFO : EPOCH 8 - PROGRESS: at 76.11% examples, 614008 words/s, in_qsize 16, out_qsize 0\n",
      "2019-10-15 11:24:19,284 : INFO : EPOCH 8 - PROGRESS: at 84.05% examples, 617176 words/s, in_qsize 16, out_qsize 0\n",
      "2019-10-15 11:24:20,297 : INFO : EPOCH 8 - PROGRESS: at 91.96% examples, 619329 words/s, in_qsize 16, out_qsize 0\n",
      "2019-10-15 11:24:21,263 : INFO : worker thread finished; awaiting finish of 7 more threads\n",
      "2019-10-15 11:24:21,271 : INFO : worker thread finished; awaiting finish of 6 more threads\n",
      "2019-10-15 11:24:21,283 : INFO : worker thread finished; awaiting finish of 5 more threads\n",
      "2019-10-15 11:24:21,299 : INFO : EPOCH 8 - PROGRESS: at 99.56% examples, 619595 words/s, in_qsize 2, out_qsize 5\n",
      "2019-10-15 11:24:21,303 : INFO : worker thread finished; awaiting finish of 4 more threads\n",
      "2019-10-15 11:24:21,303 : INFO : worker thread finished; awaiting finish of 3 more threads\n",
      "2019-10-15 11:24:21,307 : INFO : worker thread finished; awaiting finish of 2 more threads\n",
      "2019-10-15 11:24:21,311 : INFO : worker thread finished; awaiting finish of 1 more threads\n",
      "2019-10-15 11:24:21,331 : INFO : worker thread finished; awaiting finish of 0 more threads\n",
      "2019-10-15 11:24:21,331 : INFO : EPOCH - 8 : training on 9227204 raw words (8220909 effective words) took 13.2s, 620705 effective words/s\n",
      "2019-10-15 11:24:22,391 : INFO : EPOCH 9 - PROGRESS: at 7.38% examples, 580858 words/s, in_qsize 15, out_qsize 0\n",
      "2019-10-15 11:24:23,423 : INFO : EPOCH 9 - PROGRESS: at 15.30% examples, 605350 words/s, in_qsize 15, out_qsize 0\n",
      "2019-10-15 11:24:24,470 : INFO : EPOCH 9 - PROGRESS: at 23.41% examples, 615433 words/s, in_qsize 12, out_qsize 3\n",
      "2019-10-15 11:24:25,480 : INFO : EPOCH 9 - PROGRESS: at 30.67% examples, 610426 words/s, in_qsize 15, out_qsize 0\n",
      "2019-10-15 11:24:26,488 : INFO : EPOCH 9 - PROGRESS: at 38.46% examples, 615359 words/s, in_qsize 15, out_qsize 0\n",
      "2019-10-15 11:24:27,536 : INFO : EPOCH 9 - PROGRESS: at 46.03% examples, 612032 words/s, in_qsize 15, out_qsize 0\n",
      "2019-10-15 11:24:28,569 : INFO : EPOCH 9 - PROGRESS: at 53.92% examples, 614415 words/s, in_qsize 15, out_qsize 0\n",
      "2019-10-15 11:24:29,585 : INFO : EPOCH 9 - PROGRESS: at 61.28% examples, 612478 words/s, in_qsize 14, out_qsize 1\n",
      "2019-10-15 11:24:30,616 : INFO : EPOCH 9 - PROGRESS: at 68.85% examples, 611548 words/s, in_qsize 16, out_qsize 1\n",
      "2019-10-15 11:24:31,616 : INFO : EPOCH 9 - PROGRESS: at 76.88% examples, 616040 words/s, in_qsize 14, out_qsize 1\n",
      "2019-10-15 11:24:32,620 : INFO : EPOCH 9 - PROGRESS: at 84.69% examples, 618029 words/s, in_qsize 15, out_qsize 0\n",
      "2019-10-15 11:24:33,673 : INFO : EPOCH 9 - PROGRESS: at 92.18% examples, 614994 words/s, in_qsize 15, out_qsize 0\n",
      "2019-10-15 11:24:34,564 : INFO : worker thread finished; awaiting finish of 7 more threads\n",
      "2019-10-15 11:24:34,584 : INFO : worker thread finished; awaiting finish of 6 more threads\n",
      "2019-10-15 11:24:34,596 : INFO : worker thread finished; awaiting finish of 5 more threads\n",
      "2019-10-15 11:24:34,600 : INFO : worker thread finished; awaiting finish of 4 more threads\n",
      "2019-10-15 11:24:34,604 : INFO : worker thread finished; awaiting finish of 3 more threads\n",
      "2019-10-15 11:24:34,620 : INFO : worker thread finished; awaiting finish of 2 more threads\n",
      "2019-10-15 11:24:34,624 : INFO : worker thread finished; awaiting finish of 1 more threads\n",
      "2019-10-15 11:24:34,636 : INFO : worker thread finished; awaiting finish of 0 more threads\n",
      "2019-10-15 11:24:34,640 : INFO : EPOCH - 9 : training on 9227204 raw words (8222344 effective words) took 13.3s, 618731 effective words/s\n",
      "2019-10-15 11:24:35,672 : INFO : EPOCH 10 - PROGRESS: at 7.38% examples, 592019 words/s, in_qsize 16, out_qsize 0\n",
      "2019-10-15 11:24:36,672 : INFO : EPOCH 10 - PROGRESS: at 14.97% examples, 607330 words/s, in_qsize 14, out_qsize 1\n",
      "2019-10-15 11:24:37,700 : INFO : EPOCH 10 - PROGRESS: at 22.98% examples, 619186 words/s, in_qsize 15, out_qsize 0\n",
      "2019-10-15 11:24:38,700 : INFO : EPOCH 10 - PROGRESS: at 30.78% examples, 624565 words/s, in_qsize 15, out_qsize 0\n",
      "2019-10-15 11:24:39,712 : INFO : EPOCH 10 - PROGRESS: at 38.25% examples, 621195 words/s, in_qsize 15, out_qsize 0\n",
      "2019-10-15 11:24:40,725 : INFO : EPOCH 10 - PROGRESS: at 45.59% examples, 616667 words/s, in_qsize 15, out_qsize 0\n",
      "2019-10-15 11:24:41,742 : INFO : EPOCH 10 - PROGRESS: at 53.27% examples, 618226 words/s, in_qsize 15, out_qsize 0\n",
      "2019-10-15 11:24:42,762 : INFO : EPOCH 10 - PROGRESS: at 61.28% examples, 621756 words/s, in_qsize 16, out_qsize 0\n",
      "2019-10-15 11:24:43,761 : INFO : EPOCH 10 - PROGRESS: at 69.18% examples, 624768 words/s, in_qsize 16, out_qsize 0\n",
      "2019-10-15 11:24:44,801 : INFO : EPOCH 10 - PROGRESS: at 76.66% examples, 621441 words/s, in_qsize 16, out_qsize 3\n",
      "2019-10-15 11:24:45,809 : INFO : EPOCH 10 - PROGRESS: at 85.02% examples, 626788 words/s, in_qsize 15, out_qsize 0\n",
      "2019-10-15 11:24:46,808 : INFO : EPOCH 10 - PROGRESS: at 92.18% examples, 623508 words/s, in_qsize 15, out_qsize 0\n",
      "2019-10-15 11:24:47,685 : INFO : worker thread finished; awaiting finish of 7 more threads\n",
      "2019-10-15 11:24:47,685 : INFO : worker thread finished; awaiting finish of 6 more threads\n",
      "2019-10-15 11:24:47,710 : INFO : worker thread finished; awaiting finish of 5 more threads\n",
      "2019-10-15 11:24:47,714 : INFO : worker thread finished; awaiting finish of 4 more threads\n",
      "2019-10-15 11:24:47,718 : INFO : worker thread finished; awaiting finish of 3 more threads\n",
      "2019-10-15 11:24:47,734 : INFO : worker thread finished; awaiting finish of 2 more threads\n",
      "2019-10-15 11:24:47,750 : INFO : worker thread finished; awaiting finish of 1 more threads\n",
      "2019-10-15 11:24:47,754 : INFO : worker thread finished; awaiting finish of 0 more threads\n",
      "2019-10-15 11:24:47,758 : INFO : EPOCH - 10 : training on 9227204 raw words (8222742 effective words) took 13.1s, 627393 effective words/s\n",
      "2019-10-15 11:24:48,792 : INFO : EPOCH 11 - PROGRESS: at 7.06% examples, 568320 words/s, in_qsize 16, out_qsize 1\n",
      "2019-10-15 11:24:49,804 : INFO : EPOCH 11 - PROGRESS: at 15.30% examples, 617551 words/s, in_qsize 14, out_qsize 1\n",
      "2019-10-15 11:24:50,820 : INFO : EPOCH 11 - PROGRESS: at 22.87% examples, 616180 words/s, in_qsize 15, out_qsize 0\n",
      "2019-10-15 11:24:51,827 : INFO : EPOCH 11 - PROGRESS: at 30.89% examples, 625676 words/s, in_qsize 15, out_qsize 1\n",
      "2019-10-15 11:24:52,828 : INFO : EPOCH 11 - PROGRESS: at 38.25% examples, 621597 words/s, in_qsize 15, out_qsize 0\n",
      "2019-10-15 11:24:53,853 : INFO : EPOCH 11 - PROGRESS: at 46.13% examples, 623784 words/s, in_qsize 13, out_qsize 2\n",
      "2019-10-15 11:24:54,893 : INFO : EPOCH 11 - PROGRESS: at 54.13% examples, 625536 words/s, in_qsize 16, out_qsize 1\n",
      "2019-10-15 11:24:55,894 : INFO : EPOCH 11 - PROGRESS: at 61.71% examples, 625230 words/s, in_qsize 13, out_qsize 2\n",
      "2019-10-15 11:24:56,922 : INFO : EPOCH 11 - PROGRESS: at 69.40% examples, 624047 words/s, in_qsize 14, out_qsize 1\n",
      "2019-10-15 11:24:57,938 : INFO : EPOCH 11 - PROGRESS: at 77.53% examples, 627466 words/s, in_qsize 15, out_qsize 0\n"
     ]
    },
    {
     "name": "stderr",
     "output_type": "stream",
     "text": [
      "2019-10-15 11:24:58,958 : INFO : EPOCH 11 - PROGRESS: at 85.34% examples, 627437 words/s, in_qsize 14, out_qsize 1\n",
      "2019-10-15 11:24:59,961 : INFO : EPOCH 11 - PROGRESS: at 92.83% examples, 626186 words/s, in_qsize 15, out_qsize 0\n",
      "2019-10-15 11:25:00,793 : INFO : worker thread finished; awaiting finish of 7 more threads\n",
      "2019-10-15 11:25:00,809 : INFO : worker thread finished; awaiting finish of 6 more threads\n",
      "2019-10-15 11:25:00,809 : INFO : worker thread finished; awaiting finish of 5 more threads\n",
      "2019-10-15 11:25:00,813 : INFO : worker thread finished; awaiting finish of 4 more threads\n",
      "2019-10-15 11:25:00,813 : INFO : worker thread finished; awaiting finish of 3 more threads\n",
      "2019-10-15 11:25:00,817 : INFO : worker thread finished; awaiting finish of 2 more threads\n",
      "2019-10-15 11:25:00,841 : INFO : worker thread finished; awaiting finish of 1 more threads\n",
      "2019-10-15 11:25:00,853 : INFO : worker thread finished; awaiting finish of 0 more threads\n",
      "2019-10-15 11:25:00,853 : INFO : EPOCH - 11 : training on 9227204 raw words (8222939 effective words) took 13.1s, 628579 effective words/s\n",
      "2019-10-15 11:25:01,885 : INFO : EPOCH 12 - PROGRESS: at 7.60% examples, 610475 words/s, in_qsize 15, out_qsize 0\n",
      "2019-10-15 11:25:02,903 : INFO : EPOCH 12 - PROGRESS: at 14.97% examples, 603206 words/s, in_qsize 16, out_qsize 0\n",
      "2019-10-15 11:25:03,920 : INFO : EPOCH 12 - PROGRESS: at 23.09% examples, 620933 words/s, in_qsize 15, out_qsize 0\n",
      "2019-10-15 11:25:04,956 : INFO : EPOCH 12 - PROGRESS: at 30.89% examples, 620715 words/s, in_qsize 15, out_qsize 0\n",
      "2019-10-15 11:25:05,960 : INFO : EPOCH 12 - PROGRESS: at 38.57% examples, 622610 words/s, in_qsize 15, out_qsize 0\n",
      "2019-10-15 11:25:07,008 : INFO : EPOCH 12 - PROGRESS: at 46.02% examples, 616313 words/s, in_qsize 16, out_qsize 0\n",
      "2019-10-15 11:25:08,050 : INFO : EPOCH 12 - PROGRESS: at 53.16% examples, 608759 words/s, in_qsize 15, out_qsize 0\n",
      "2019-10-15 11:25:09,075 : INFO : EPOCH 12 - PROGRESS: at 58.79% examples, 589124 words/s, in_qsize 16, out_qsize 1\n",
      "2019-10-15 11:25:10,107 : INFO : EPOCH 12 - PROGRESS: at 63.86% examples, 568667 words/s, in_qsize 16, out_qsize 2\n",
      "2019-10-15 11:25:11,135 : INFO : EPOCH 12 - PROGRESS: at 69.50% examples, 556931 words/s, in_qsize 15, out_qsize 0\n",
      "2019-10-15 11:25:12,135 : INFO : EPOCH 12 - PROGRESS: at 74.48% examples, 543759 words/s, in_qsize 14, out_qsize 2\n",
      "2019-10-15 11:25:13,151 : INFO : EPOCH 12 - PROGRESS: at 81.01% examples, 542419 words/s, in_qsize 15, out_qsize 0\n",
      "2019-10-15 11:25:14,160 : INFO : EPOCH 12 - PROGRESS: at 88.37% examples, 546688 words/s, in_qsize 15, out_qsize 0\n",
      "2019-10-15 11:25:15,186 : INFO : EPOCH 12 - PROGRESS: at 95.23% examples, 546718 words/s, in_qsize 16, out_qsize 0\n",
      "2019-10-15 11:25:15,798 : INFO : worker thread finished; awaiting finish of 7 more threads\n",
      "2019-10-15 11:25:15,798 : INFO : worker thread finished; awaiting finish of 6 more threads\n",
      "2019-10-15 11:25:15,806 : INFO : worker thread finished; awaiting finish of 5 more threads\n",
      "2019-10-15 11:25:15,822 : INFO : worker thread finished; awaiting finish of 4 more threads\n",
      "2019-10-15 11:25:15,838 : INFO : worker thread finished; awaiting finish of 3 more threads\n",
      "2019-10-15 11:25:15,842 : INFO : worker thread finished; awaiting finish of 2 more threads\n",
      "2019-10-15 11:25:15,846 : INFO : worker thread finished; awaiting finish of 1 more threads\n",
      "2019-10-15 11:25:15,858 : INFO : worker thread finished; awaiting finish of 0 more threads\n",
      "2019-10-15 11:25:15,858 : INFO : EPOCH - 12 : training on 9227204 raw words (8222172 effective words) took 15.0s, 548457 effective words/s\n",
      "2019-10-15 11:25:16,926 : INFO : EPOCH 13 - PROGRESS: at 6.95% examples, 544641 words/s, in_qsize 15, out_qsize 0\n",
      "2019-10-15 11:25:17,938 : INFO : EPOCH 13 - PROGRESS: at 13.68% examples, 544665 words/s, in_qsize 15, out_qsize 0\n",
      "2019-10-15 11:25:18,941 : INFO : EPOCH 13 - PROGRESS: at 20.70% examples, 554124 words/s, in_qsize 15, out_qsize 0\n",
      "2019-10-15 11:25:19,952 : INFO : EPOCH 13 - PROGRESS: at 28.40% examples, 572863 words/s, in_qsize 15, out_qsize 0\n",
      "2019-10-15 11:25:20,957 : INFO : EPOCH 13 - PROGRESS: at 35.10% examples, 568378 words/s, in_qsize 13, out_qsize 2\n",
      "2019-10-15 11:25:21,960 : INFO : EPOCH 13 - PROGRESS: at 42.67% examples, 577173 words/s, in_qsize 15, out_qsize 0\n",
      "2019-10-15 11:25:22,992 : INFO : EPOCH 13 - PROGRESS: at 50.57% examples, 584990 words/s, in_qsize 15, out_qsize 0\n",
      "2019-10-15 11:25:24,010 : INFO : EPOCH 13 - PROGRESS: at 57.49% examples, 581821 words/s, in_qsize 14, out_qsize 1\n",
      "2019-10-15 11:25:25,045 : INFO : EPOCH 13 - PROGRESS: at 64.51% examples, 578526 words/s, in_qsize 15, out_qsize 0\n",
      "2019-10-15 11:25:26,064 : INFO : EPOCH 13 - PROGRESS: at 70.59% examples, 570232 words/s, in_qsize 15, out_qsize 0\n",
      "2019-10-15 11:25:27,068 : INFO : EPOCH 13 - PROGRESS: at 77.20% examples, 567704 words/s, in_qsize 15, out_qsize 0\n",
      "2019-10-15 11:25:28,091 : INFO : EPOCH 13 - PROGRESS: at 84.80% examples, 571102 words/s, in_qsize 14, out_qsize 1\n",
      "2019-10-15 11:25:29,093 : INFO : EPOCH 13 - PROGRESS: at 92.39% examples, 574469 words/s, in_qsize 15, out_qsize 0\n",
      "2019-10-15 11:25:29,973 : INFO : worker thread finished; awaiting finish of 7 more threads\n",
      "2019-10-15 11:25:29,989 : INFO : worker thread finished; awaiting finish of 6 more threads\n",
      "2019-10-15 11:25:30,003 : INFO : worker thread finished; awaiting finish of 5 more threads\n",
      "2019-10-15 11:25:30,011 : INFO : worker thread finished; awaiting finish of 4 more threads\n",
      "2019-10-15 11:25:30,031 : INFO : worker thread finished; awaiting finish of 3 more threads\n",
      "2019-10-15 11:25:30,043 : INFO : worker thread finished; awaiting finish of 2 more threads\n",
      "2019-10-15 11:25:30,051 : INFO : worker thread finished; awaiting finish of 1 more threads\n",
      "2019-10-15 11:25:30,055 : INFO : worker thread finished; awaiting finish of 0 more threads\n",
      "2019-10-15 11:25:30,055 : INFO : EPOCH - 13 : training on 9227204 raw words (8221824 effective words) took 14.2s, 579953 effective words/s\n",
      "2019-10-15 11:25:31,076 : INFO : EPOCH 14 - PROGRESS: at 6.84% examples, 558710 words/s, in_qsize 15, out_qsize 0\n",
      "2019-10-15 11:25:32,132 : INFO : EPOCH 14 - PROGRESS: at 13.36% examples, 532667 words/s, in_qsize 13, out_qsize 3\n",
      "2019-10-15 11:25:33,152 : INFO : EPOCH 14 - PROGRESS: at 20.38% examples, 543974 words/s, in_qsize 15, out_qsize 0\n",
      "2019-10-15 11:25:34,156 : INFO : EPOCH 14 - PROGRESS: at 26.56% examples, 534610 words/s, in_qsize 15, out_qsize 0\n",
      "2019-10-15 11:25:35,158 : INFO : EPOCH 14 - PROGRESS: at 33.49% examples, 541443 words/s, in_qsize 13, out_qsize 2\n",
      "2019-10-15 11:25:36,168 : INFO : EPOCH 14 - PROGRESS: at 40.51% examples, 546594 words/s, in_qsize 15, out_qsize 0\n",
      "2019-10-15 11:25:37,174 : INFO : EPOCH 14 - PROGRESS: at 46.57% examples, 539518 words/s, in_qsize 15, out_qsize 0\n",
      "2019-10-15 11:25:38,185 : INFO : EPOCH 14 - PROGRESS: at 52.73% examples, 534951 words/s, in_qsize 16, out_qsize 1\n",
      "2019-10-15 11:25:39,187 : INFO : EPOCH 14 - PROGRESS: at 59.01% examples, 532833 words/s, in_qsize 16, out_qsize 0\n",
      "2019-10-15 11:25:40,195 : INFO : EPOCH 14 - PROGRESS: at 65.61% examples, 533363 words/s, in_qsize 15, out_qsize 0\n",
      "2019-10-15 11:25:41,199 : INFO : EPOCH 14 - PROGRESS: at 71.67% examples, 530093 words/s, in_qsize 15, out_qsize 0\n",
      "2019-10-15 11:25:42,200 : INFO : EPOCH 14 - PROGRESS: at 79.05% examples, 536299 words/s, in_qsize 15, out_qsize 0\n",
      "2019-10-15 11:25:43,200 : INFO : EPOCH 14 - PROGRESS: at 85.77% examples, 537362 words/s, in_qsize 16, out_qsize 0\n",
      "2019-10-15 11:25:44,222 : INFO : EPOCH 14 - PROGRESS: at 92.94% examples, 540097 words/s, in_qsize 14, out_qsize 1\n",
      "2019-10-15 11:25:45,150 : INFO : worker thread finished; awaiting finish of 7 more threads\n",
      "2019-10-15 11:25:45,154 : INFO : worker thread finished; awaiting finish of 6 more threads\n",
      "2019-10-15 11:25:45,162 : INFO : worker thread finished; awaiting finish of 5 more threads\n",
      "2019-10-15 11:25:45,178 : INFO : worker thread finished; awaiting finish of 4 more threads\n",
      "2019-10-15 11:25:45,190 : INFO : worker thread finished; awaiting finish of 3 more threads\n",
      "2019-10-15 11:25:45,194 : INFO : worker thread finished; awaiting finish of 2 more threads\n",
      "2019-10-15 11:25:45,202 : INFO : worker thread finished; awaiting finish of 1 more threads\n",
      "2019-10-15 11:25:45,210 : INFO : worker thread finished; awaiting finish of 0 more threads\n"
     ]
    },
    {
     "name": "stderr",
     "output_type": "stream",
     "text": [
      "2019-10-15 11:25:45,210 : INFO : EPOCH - 14 : training on 9227204 raw words (8222776 effective words) took 15.1s, 543140 effective words/s\n",
      "2019-10-15 11:25:46,234 : INFO : EPOCH 15 - PROGRESS: at 6.84% examples, 558857 words/s, in_qsize 15, out_qsize 0\n",
      "2019-10-15 11:25:47,262 : INFO : EPOCH 15 - PROGRESS: at 13.47% examples, 543222 words/s, in_qsize 14, out_qsize 1\n",
      "2019-10-15 11:25:48,318 : INFO : EPOCH 15 - PROGRESS: at 20.05% examples, 533488 words/s, in_qsize 15, out_qsize 2\n",
      "2019-10-15 11:25:49,338 : INFO : EPOCH 15 - PROGRESS: at 27.09% examples, 541959 words/s, in_qsize 15, out_qsize 0\n",
      "2019-10-15 11:25:50,359 : INFO : EPOCH 15 - PROGRESS: at 33.59% examples, 538474 words/s, in_qsize 15, out_qsize 0\n",
      "2019-10-15 11:25:51,364 : INFO : EPOCH 15 - PROGRESS: at 41.59% examples, 557447 words/s, in_qsize 14, out_qsize 1\n",
      "2019-10-15 11:25:52,396 : INFO : EPOCH 15 - PROGRESS: at 47.97% examples, 550565 words/s, in_qsize 16, out_qsize 1\n",
      "2019-10-15 11:25:53,400 : INFO : EPOCH 15 - PROGRESS: at 55.86% examples, 562468 words/s, in_qsize 16, out_qsize 0\n",
      "2019-10-15 11:25:54,413 : INFO : EPOCH 15 - PROGRESS: at 62.25% examples, 557526 words/s, in_qsize 15, out_qsize 0\n",
      "2019-10-15 11:25:55,461 : INFO : EPOCH 15 - PROGRESS: at 69.18% examples, 556420 words/s, in_qsize 16, out_qsize 1\n",
      "2019-10-15 11:25:56,512 : INFO : EPOCH 15 - PROGRESS: at 75.78% examples, 552665 words/s, in_qsize 15, out_qsize 0\n",
      "2019-10-15 11:25:57,534 : INFO : EPOCH 15 - PROGRESS: at 82.42% examples, 551024 words/s, in_qsize 11, out_qsize 4\n",
      "2019-10-15 11:25:58,535 : INFO : EPOCH 15 - PROGRESS: at 89.45% examples, 552986 words/s, in_qsize 15, out_qsize 0\n",
      "2019-10-15 11:25:59,555 : INFO : EPOCH 15 - PROGRESS: at 96.53% examples, 553821 words/s, in_qsize 15, out_qsize 0\n",
      "2019-10-15 11:25:59,882 : INFO : worker thread finished; awaiting finish of 7 more threads\n",
      "2019-10-15 11:25:59,894 : INFO : worker thread finished; awaiting finish of 6 more threads\n",
      "2019-10-15 11:25:59,906 : INFO : worker thread finished; awaiting finish of 5 more threads\n",
      "2019-10-15 11:25:59,918 : INFO : worker thread finished; awaiting finish of 4 more threads\n",
      "2019-10-15 11:25:59,926 : INFO : worker thread finished; awaiting finish of 3 more threads\n",
      "2019-10-15 11:25:59,926 : INFO : worker thread finished; awaiting finish of 2 more threads\n",
      "2019-10-15 11:25:59,930 : INFO : worker thread finished; awaiting finish of 1 more threads\n",
      "2019-10-15 11:25:59,936 : INFO : worker thread finished; awaiting finish of 0 more threads\n",
      "2019-10-15 11:25:59,936 : INFO : EPOCH - 15 : training on 9227204 raw words (8222875 effective words) took 14.7s, 559056 effective words/s\n",
      "2019-10-15 11:26:00,965 : INFO : EPOCH 16 - PROGRESS: at 7.50% examples, 606206 words/s, in_qsize 15, out_qsize 0\n",
      "2019-10-15 11:26:01,969 : INFO : EPOCH 16 - PROGRESS: at 15.30% examples, 623007 words/s, in_qsize 15, out_qsize 0\n",
      "2019-10-15 11:26:02,975 : INFO : EPOCH 16 - PROGRESS: at 22.65% examples, 616418 words/s, in_qsize 15, out_qsize 0\n",
      "2019-10-15 11:26:03,980 : INFO : EPOCH 16 - PROGRESS: at 30.35% examples, 619290 words/s, in_qsize 16, out_qsize 0\n",
      "2019-10-15 11:26:04,984 : INFO : EPOCH 16 - PROGRESS: at 38.46% examples, 628560 words/s, in_qsize 14, out_qsize 1\n",
      "2019-10-15 11:26:05,992 : INFO : EPOCH 16 - PROGRESS: at 46.24% examples, 630062 words/s, in_qsize 15, out_qsize 0\n",
      "2019-10-15 11:26:06,983 : INFO : EPOCH 16 - PROGRESS: at 53.81% examples, 628719 words/s, in_qsize 15, out_qsize 0\n",
      "2019-10-15 11:26:08,010 : INFO : EPOCH 16 - PROGRESS: at 62.03% examples, 633714 words/s, in_qsize 15, out_qsize 0\n",
      "2019-10-15 11:26:09,038 : INFO : EPOCH 16 - PROGRESS: at 69.29% examples, 627476 words/s, in_qsize 14, out_qsize 1\n",
      "2019-10-15 11:26:10,038 : INFO : EPOCH 16 - PROGRESS: at 77.31% examples, 630116 words/s, in_qsize 13, out_qsize 2\n",
      "2019-10-15 11:26:11,068 : INFO : EPOCH 16 - PROGRESS: at 85.45% examples, 632248 words/s, in_qsize 15, out_qsize 0\n",
      "2019-10-15 11:26:12,096 : INFO : EPOCH 16 - PROGRESS: at 93.37% examples, 632397 words/s, in_qsize 14, out_qsize 1\n",
      "2019-10-15 11:26:12,844 : INFO : worker thread finished; awaiting finish of 7 more threads\n",
      "2019-10-15 11:26:12,852 : INFO : worker thread finished; awaiting finish of 6 more threads\n",
      "2019-10-15 11:26:12,852 : INFO : worker thread finished; awaiting finish of 5 more threads\n",
      "2019-10-15 11:26:12,856 : INFO : worker thread finished; awaiting finish of 4 more threads\n",
      "2019-10-15 11:26:12,856 : INFO : worker thread finished; awaiting finish of 3 more threads\n",
      "2019-10-15 11:26:12,880 : INFO : worker thread finished; awaiting finish of 2 more threads\n",
      "2019-10-15 11:26:12,884 : INFO : worker thread finished; awaiting finish of 1 more threads\n",
      "2019-10-15 11:26:12,888 : INFO : worker thread finished; awaiting finish of 0 more threads\n",
      "2019-10-15 11:26:12,888 : INFO : EPOCH - 16 : training on 9227204 raw words (8223001 effective words) took 12.9s, 635688 effective words/s\n",
      "2019-10-15 11:26:13,932 : INFO : EPOCH 17 - PROGRESS: at 7.39% examples, 587721 words/s, in_qsize 15, out_qsize 0\n",
      "2019-10-15 11:26:14,930 : INFO : EPOCH 17 - PROGRESS: at 15.19% examples, 612038 words/s, in_qsize 13, out_qsize 2\n",
      "2019-10-15 11:26:15,959 : INFO : EPOCH 17 - PROGRESS: at 23.20% examples, 623406 words/s, in_qsize 15, out_qsize 0\n",
      "2019-10-15 11:26:16,959 : INFO : EPOCH 17 - PROGRESS: at 30.56% examples, 618917 words/s, in_qsize 16, out_qsize 1\n",
      "2019-10-15 11:26:17,987 : INFO : EPOCH 17 - PROGRESS: at 39.00% examples, 630318 words/s, in_qsize 15, out_qsize 0\n",
      "2019-10-15 11:26:19,015 : INFO : EPOCH 17 - PROGRESS: at 46.78% examples, 629276 words/s, in_qsize 15, out_qsize 0\n",
      "2019-10-15 11:26:20,039 : INFO : EPOCH 17 - PROGRESS: at 54.78% examples, 631380 words/s, in_qsize 14, out_qsize 1\n",
      "2019-10-15 11:26:21,043 : INFO : EPOCH 17 - PROGRESS: at 62.46% examples, 631463 words/s, in_qsize 15, out_qsize 0\n",
      "2019-10-15 11:26:22,104 : INFO : EPOCH 17 - PROGRESS: at 70.48% examples, 629353 words/s, in_qsize 15, out_qsize 0\n",
      "2019-10-15 11:26:23,127 : INFO : EPOCH 17 - PROGRESS: at 78.84% examples, 634178 words/s, in_qsize 16, out_qsize 0\n",
      "2019-10-15 11:26:24,131 : INFO : EPOCH 17 - PROGRESS: at 86.64% examples, 634487 words/s, in_qsize 15, out_qsize 0\n",
      "2019-10-15 11:26:25,143 : INFO : EPOCH 17 - PROGRESS: at 94.69% examples, 635874 words/s, in_qsize 15, out_qsize 0\n",
      "2019-10-15 11:26:25,755 : INFO : worker thread finished; awaiting finish of 7 more threads\n",
      "2019-10-15 11:26:25,759 : INFO : worker thread finished; awaiting finish of 6 more threads\n",
      "2019-10-15 11:26:25,763 : INFO : worker thread finished; awaiting finish of 5 more threads\n",
      "2019-10-15 11:26:25,767 : INFO : worker thread finished; awaiting finish of 4 more threads\n",
      "2019-10-15 11:26:25,783 : INFO : worker thread finished; awaiting finish of 3 more threads\n",
      "2019-10-15 11:26:25,791 : INFO : worker thread finished; awaiting finish of 2 more threads\n",
      "2019-10-15 11:26:25,795 : INFO : worker thread finished; awaiting finish of 1 more threads\n",
      "2019-10-15 11:26:25,803 : INFO : worker thread finished; awaiting finish of 0 more threads\n",
      "2019-10-15 11:26:25,803 : INFO : EPOCH - 17 : training on 9227204 raw words (8222376 effective words) took 12.9s, 637184 effective words/s\n",
      "2019-10-15 11:26:26,820 : INFO : EPOCH 18 - PROGRESS: at 7.50% examples, 613773 words/s, in_qsize 16, out_qsize 0\n",
      "2019-10-15 11:26:27,821 : INFO : EPOCH 18 - PROGRESS: at 15.08% examples, 615228 words/s, in_qsize 15, out_qsize 0\n",
      "2019-10-15 11:26:28,836 : INFO : EPOCH 18 - PROGRESS: at 22.98% examples, 623798 words/s, in_qsize 15, out_qsize 0\n",
      "2019-10-15 11:26:29,865 : INFO : EPOCH 18 - PROGRESS: at 30.67% examples, 622130 words/s, in_qsize 15, out_qsize 0\n",
      "2019-10-15 11:26:30,890 : INFO : EPOCH 18 - PROGRESS: at 38.57% examples, 624848 words/s, in_qsize 15, out_qsize 0\n",
      "2019-10-15 11:26:31,894 : INFO : EPOCH 18 - PROGRESS: at 46.46% examples, 628499 words/s, in_qsize 15, out_qsize 0\n",
      "2019-10-15 11:26:32,908 : INFO : EPOCH 18 - PROGRESS: at 54.35% examples, 630907 words/s, in_qsize 12, out_qsize 3\n",
      "2019-10-15 11:26:33,919 : INFO : EPOCH 18 - PROGRESS: at 62.36% examples, 633579 words/s, in_qsize 14, out_qsize 1\n",
      "2019-10-15 11:26:34,940 : INFO : EPOCH 18 - PROGRESS: at 70.48% examples, 635981 words/s, in_qsize 15, out_qsize 0\n",
      "2019-10-15 11:26:35,956 : INFO : EPOCH 18 - PROGRESS: at 78.07% examples, 633577 words/s, in_qsize 15, out_qsize 0\n"
     ]
    },
    {
     "name": "stderr",
     "output_type": "stream",
     "text": [
      "2019-10-15 11:26:36,958 : INFO : EPOCH 18 - PROGRESS: at 85.99% examples, 634786 words/s, in_qsize 12, out_qsize 3\n",
      "2019-10-15 11:26:37,977 : INFO : EPOCH 18 - PROGRESS: at 93.92% examples, 635191 words/s, in_qsize 15, out_qsize 0\n",
      "2019-10-15 11:26:38,640 : INFO : worker thread finished; awaiting finish of 7 more threads\n",
      "2019-10-15 11:26:38,644 : INFO : worker thread finished; awaiting finish of 6 more threads\n",
      "2019-10-15 11:26:38,644 : INFO : worker thread finished; awaiting finish of 5 more threads\n",
      "2019-10-15 11:26:38,649 : INFO : worker thread finished; awaiting finish of 4 more threads\n",
      "2019-10-15 11:26:38,651 : INFO : worker thread finished; awaiting finish of 3 more threads\n",
      "2019-10-15 11:26:38,652 : INFO : worker thread finished; awaiting finish of 2 more threads\n",
      "2019-10-15 11:26:38,662 : INFO : worker thread finished; awaiting finish of 1 more threads\n",
      "2019-10-15 11:26:38,673 : INFO : worker thread finished; awaiting finish of 0 more threads\n",
      "2019-10-15 11:26:38,674 : INFO : EPOCH - 18 : training on 9227204 raw words (8222597 effective words) took 12.9s, 639751 effective words/s\n",
      "2019-10-15 11:26:39,717 : INFO : EPOCH 19 - PROGRESS: at 7.28% examples, 578990 words/s, in_qsize 15, out_qsize 0\n",
      "2019-10-15 11:26:40,720 : INFO : EPOCH 19 - PROGRESS: at 15.30% examples, 617444 words/s, in_qsize 15, out_qsize 0\n",
      "2019-10-15 11:26:41,764 : INFO : EPOCH 19 - PROGRESS: at 23.31% examples, 622057 words/s, in_qsize 15, out_qsize 0\n",
      "2019-10-15 11:26:42,780 : INFO : EPOCH 19 - PROGRESS: at 31.53% examples, 633575 words/s, in_qsize 15, out_qsize 0\n",
      "2019-10-15 11:26:43,786 : INFO : EPOCH 19 - PROGRESS: at 39.22% examples, 632314 words/s, in_qsize 14, out_qsize 1\n",
      "2019-10-15 11:26:44,794 : INFO : EPOCH 19 - PROGRESS: at 47.10% examples, 634464 words/s, in_qsize 15, out_qsize 0\n",
      "2019-10-15 11:26:45,802 : INFO : EPOCH 19 - PROGRESS: at 54.46% examples, 629758 words/s, in_qsize 11, out_qsize 4\n",
      "2019-10-15 11:26:46,802 : INFO : EPOCH 19 - PROGRESS: at 62.46% examples, 633231 words/s, in_qsize 15, out_qsize 0\n",
      "2019-10-15 11:26:47,814 : INFO : EPOCH 19 - PROGRESS: at 70.59% examples, 636404 words/s, in_qsize 15, out_qsize 0\n",
      "2019-10-15 11:26:48,807 : INFO : EPOCH 19 - PROGRESS: at 78.07% examples, 634125 words/s, in_qsize 14, out_qsize 1\n",
      "2019-10-15 11:26:49,858 : INFO : EPOCH 19 - PROGRESS: at 85.98% examples, 632864 words/s, in_qsize 15, out_qsize 0\n",
      "2019-10-15 11:26:50,875 : INFO : EPOCH 19 - PROGRESS: at 93.92% examples, 633224 words/s, in_qsize 14, out_qsize 1\n",
      "2019-10-15 11:26:51,498 : INFO : worker thread finished; awaiting finish of 7 more threads\n",
      "2019-10-15 11:26:51,538 : INFO : worker thread finished; awaiting finish of 6 more threads\n",
      "2019-10-15 11:26:51,542 : INFO : worker thread finished; awaiting finish of 5 more threads\n",
      "2019-10-15 11:26:51,550 : INFO : worker thread finished; awaiting finish of 4 more threads\n",
      "2019-10-15 11:26:51,554 : INFO : worker thread finished; awaiting finish of 3 more threads\n",
      "2019-10-15 11:26:51,558 : INFO : worker thread finished; awaiting finish of 2 more threads\n",
      "2019-10-15 11:26:51,570 : INFO : worker thread finished; awaiting finish of 1 more threads\n",
      "2019-10-15 11:26:51,586 : INFO : worker thread finished; awaiting finish of 0 more threads\n",
      "2019-10-15 11:26:51,586 : INFO : EPOCH - 19 : training on 9227204 raw words (8222696 effective words) took 12.9s, 637433 effective words/s\n",
      "2019-10-15 11:26:52,610 : INFO : EPOCH 20 - PROGRESS: at 7.27% examples, 590551 words/s, in_qsize 15, out_qsize 0\n",
      "2019-10-15 11:26:53,618 : INFO : EPOCH 20 - PROGRESS: at 15.62% examples, 634600 words/s, in_qsize 15, out_qsize 0\n",
      "2019-10-15 11:26:54,659 : INFO : EPOCH 20 - PROGRESS: at 23.31% examples, 624440 words/s, in_qsize 15, out_qsize 0\n",
      "2019-10-15 11:26:55,672 : INFO : EPOCH 20 - PROGRESS: at 31.32% examples, 631106 words/s, in_qsize 15, out_qsize 0\n",
      "2019-10-15 11:26:56,688 : INFO : EPOCH 20 - PROGRESS: at 39.22% examples, 633457 words/s, in_qsize 13, out_qsize 2\n",
      "2019-10-15 11:26:57,687 : INFO : EPOCH 20 - PROGRESS: at 47.21% examples, 637470 words/s, in_qsize 15, out_qsize 0\n",
      "2019-10-15 11:26:58,710 : INFO : EPOCH 20 - PROGRESS: at 55.21% examples, 639082 words/s, in_qsize 15, out_qsize 0\n",
      "2019-10-15 11:26:59,725 : INFO : EPOCH 20 - PROGRESS: at 63.33% examples, 641349 words/s, in_qsize 14, out_qsize 1\n",
      "2019-10-15 11:27:00,731 : INFO : EPOCH 20 - PROGRESS: at 71.35% examples, 642909 words/s, in_qsize 15, out_qsize 0\n",
      "2019-10-15 11:27:01,731 : INFO : EPOCH 20 - PROGRESS: at 78.95% examples, 640932 words/s, in_qsize 15, out_qsize 0\n",
      "2019-10-15 11:27:02,747 : INFO : EPOCH 20 - PROGRESS: at 87.07% examples, 642361 words/s, in_qsize 15, out_qsize 0\n",
      "2019-10-15 11:27:03,752 : INFO : EPOCH 20 - PROGRESS: at 94.79% examples, 641332 words/s, in_qsize 15, out_qsize 0\n",
      "2019-10-15 11:27:04,324 : INFO : worker thread finished; awaiting finish of 7 more threads\n",
      "2019-10-15 11:27:04,340 : INFO : worker thread finished; awaiting finish of 6 more threads\n",
      "2019-10-15 11:27:04,340 : INFO : worker thread finished; awaiting finish of 5 more threads\n",
      "2019-10-15 11:27:04,340 : INFO : worker thread finished; awaiting finish of 4 more threads\n",
      "2019-10-15 11:27:04,355 : INFO : worker thread finished; awaiting finish of 3 more threads\n",
      "2019-10-15 11:27:04,355 : INFO : worker thread finished; awaiting finish of 2 more threads\n",
      "2019-10-15 11:27:04,355 : INFO : worker thread finished; awaiting finish of 1 more threads\n",
      "2019-10-15 11:27:04,371 : INFO : worker thread finished; awaiting finish of 0 more threads\n",
      "2019-10-15 11:27:04,371 : INFO : EPOCH - 20 : training on 9227204 raw words (8222711 effective words) took 12.8s, 643404 effective words/s\n",
      "2019-10-15 11:27:05,402 : INFO : EPOCH 21 - PROGRESS: at 7.49% examples, 601046 words/s, in_qsize 16, out_qsize 0\n",
      "2019-10-15 11:27:06,414 : INFO : EPOCH 21 - PROGRESS: at 15.62% examples, 631927 words/s, in_qsize 15, out_qsize 0\n",
      "2019-10-15 11:27:07,418 : INFO : EPOCH 21 - PROGRESS: at 23.31% examples, 631531 words/s, in_qsize 15, out_qsize 0\n",
      "2019-10-15 11:27:08,421 : INFO : EPOCH 21 - PROGRESS: at 31.21% examples, 636053 words/s, in_qsize 14, out_qsize 1\n",
      "2019-10-15 11:27:09,419 : INFO : EPOCH 21 - PROGRESS: at 39.11% examples, 638668 words/s, in_qsize 14, out_qsize 1\n",
      "2019-10-15 11:27:10,431 : INFO : EPOCH 21 - PROGRESS: at 47.21% examples, 642562 words/s, in_qsize 15, out_qsize 0\n",
      "2019-10-15 11:27:11,431 : INFO : EPOCH 21 - PROGRESS: at 54.89% examples, 640906 words/s, in_qsize 15, out_qsize 0\n",
      "2019-10-15 11:27:12,435 : INFO : EPOCH 21 - PROGRESS: at 62.68% examples, 640705 words/s, in_qsize 15, out_qsize 0\n",
      "2019-10-15 11:27:13,455 : INFO : EPOCH 21 - PROGRESS: at 70.05% examples, 635641 words/s, in_qsize 13, out_qsize 2\n",
      "2019-10-15 11:27:14,461 : INFO : EPOCH 21 - PROGRESS: at 78.07% examples, 637428 words/s, in_qsize 15, out_qsize 0\n",
      "2019-10-15 11:27:15,480 : INFO : EPOCH 21 - PROGRESS: at 85.66% examples, 635198 words/s, in_qsize 15, out_qsize 0\n",
      "2019-10-15 11:27:16,487 : INFO : EPOCH 21 - PROGRESS: at 93.37% examples, 634161 words/s, in_qsize 14, out_qsize 1\n",
      "2019-10-15 11:27:17,202 : INFO : worker thread finished; awaiting finish of 7 more threads\n",
      "2019-10-15 11:27:17,202 : INFO : worker thread finished; awaiting finish of 6 more threads\n",
      "2019-10-15 11:27:17,218 : INFO : worker thread finished; awaiting finish of 5 more threads\n",
      "2019-10-15 11:27:17,218 : INFO : worker thread finished; awaiting finish of 4 more threads\n",
      "2019-10-15 11:27:17,233 : INFO : worker thread finished; awaiting finish of 3 more threads\n",
      "2019-10-15 11:27:17,233 : INFO : worker thread finished; awaiting finish of 2 more threads\n",
      "2019-10-15 11:27:17,249 : INFO : worker thread finished; awaiting finish of 1 more threads\n",
      "2019-10-15 11:27:17,257 : INFO : worker thread finished; awaiting finish of 0 more threads\n",
      "2019-10-15 11:27:17,257 : INFO : EPOCH - 21 : training on 9227204 raw words (8223027 effective words) took 12.9s, 638746 effective words/s\n",
      "2019-10-15 11:27:18,281 : INFO : EPOCH 22 - PROGRESS: at 7.27% examples, 593163 words/s, in_qsize 14, out_qsize 1\n",
      "2019-10-15 11:27:19,331 : INFO : EPOCH 22 - PROGRESS: at 15.30% examples, 611031 words/s, in_qsize 15, out_qsize 0\n",
      "2019-10-15 11:27:20,395 : INFO : EPOCH 22 - PROGRESS: at 23.52% examples, 619481 words/s, in_qsize 16, out_qsize 0\n",
      "2019-10-15 11:27:21,415 : INFO : EPOCH 22 - PROGRESS: at 31.54% examples, 626201 words/s, in_qsize 13, out_qsize 2\n"
     ]
    },
    {
     "name": "stderr",
     "output_type": "stream",
     "text": [
      "2019-10-15 11:27:22,415 : INFO : EPOCH 22 - PROGRESS: at 39.54% examples, 631952 words/s, in_qsize 15, out_qsize 0\n",
      "2019-10-15 11:27:23,460 : INFO : EPOCH 22 - PROGRESS: at 47.22% examples, 627965 words/s, in_qsize 10, out_qsize 5\n",
      "2019-10-15 11:27:24,490 : INFO : EPOCH 22 - PROGRESS: at 55.32% examples, 631073 words/s, in_qsize 15, out_qsize 0\n",
      "2019-10-15 11:27:25,485 : INFO : EPOCH 22 - PROGRESS: at 63.11% examples, 631988 words/s, in_qsize 13, out_qsize 2\n",
      "2019-10-15 11:27:26,523 : INFO : EPOCH 22 - PROGRESS: at 71.02% examples, 631953 words/s, in_qsize 15, out_qsize 0\n",
      "2019-10-15 11:27:27,517 : INFO : EPOCH 22 - PROGRESS: at 78.73% examples, 631978 words/s, in_qsize 15, out_qsize 0\n",
      "2019-10-15 11:27:28,527 : INFO : EPOCH 22 - PROGRESS: at 86.96% examples, 635791 words/s, in_qsize 15, out_qsize 0\n",
      "2019-10-15 11:27:29,525 : INFO : EPOCH 22 - PROGRESS: at 94.58% examples, 634692 words/s, in_qsize 15, out_qsize 0\n",
      "2019-10-15 11:27:30,121 : INFO : worker thread finished; awaiting finish of 7 more threads\n",
      "2019-10-15 11:27:30,125 : INFO : worker thread finished; awaiting finish of 6 more threads\n",
      "2019-10-15 11:27:30,129 : INFO : worker thread finished; awaiting finish of 5 more threads\n",
      "2019-10-15 11:27:30,129 : INFO : worker thread finished; awaiting finish of 4 more threads\n",
      "2019-10-15 11:27:30,137 : INFO : worker thread finished; awaiting finish of 3 more threads\n",
      "2019-10-15 11:27:30,137 : INFO : worker thread finished; awaiting finish of 2 more threads\n",
      "2019-10-15 11:27:30,153 : INFO : worker thread finished; awaiting finish of 1 more threads\n",
      "2019-10-15 11:27:30,165 : INFO : worker thread finished; awaiting finish of 0 more threads\n",
      "2019-10-15 11:27:30,165 : INFO : EPOCH - 22 : training on 9227204 raw words (8223571 effective words) took 12.9s, 637838 effective words/s\n",
      "2019-10-15 11:27:31,197 : INFO : EPOCH 23 - PROGRESS: at 7.06% examples, 568190 words/s, in_qsize 15, out_qsize 0\n",
      "2019-10-15 11:27:32,219 : INFO : EPOCH 23 - PROGRESS: at 14.76% examples, 592938 words/s, in_qsize 16, out_qsize 0\n",
      "2019-10-15 11:27:33,225 : INFO : EPOCH 23 - PROGRESS: at 22.87% examples, 617208 words/s, in_qsize 15, out_qsize 0\n",
      "2019-10-15 11:27:34,243 : INFO : EPOCH 23 - PROGRESS: at 28.83% examples, 582949 words/s, in_qsize 15, out_qsize 0\n",
      "2019-10-15 11:27:35,275 : INFO : EPOCH 23 - PROGRESS: at 34.78% examples, 560913 words/s, in_qsize 14, out_qsize 1\n",
      "2019-10-15 11:27:36,283 : INFO : EPOCH 23 - PROGRESS: at 40.62% examples, 547333 words/s, in_qsize 15, out_qsize 0\n",
      "2019-10-15 11:27:37,299 : INFO : EPOCH 23 - PROGRESS: at 47.76% examples, 551619 words/s, in_qsize 11, out_qsize 5\n",
      "2019-10-15 11:27:38,406 : INFO : EPOCH 23 - PROGRESS: at 55.75% examples, 557645 words/s, in_qsize 16, out_qsize 0\n",
      "2019-10-15 11:27:39,440 : INFO : EPOCH 23 - PROGRESS: at 61.71% examples, 548315 words/s, in_qsize 15, out_qsize 0\n",
      "2019-10-15 11:27:40,487 : INFO : EPOCH 23 - PROGRESS: at 68.31% examples, 545302 words/s, in_qsize 16, out_qsize 1\n",
      "2019-10-15 11:27:41,493 : INFO : EPOCH 23 - PROGRESS: at 75.03% examples, 545573 words/s, in_qsize 14, out_qsize 1\n",
      "2019-10-15 11:27:42,556 : INFO : EPOCH 23 - PROGRESS: at 81.67% examples, 542708 words/s, in_qsize 16, out_qsize 0\n",
      "2019-10-15 11:27:43,561 : INFO : EPOCH 23 - PROGRESS: at 88.37% examples, 543244 words/s, in_qsize 13, out_qsize 2\n",
      "2019-10-15 11:27:44,573 : INFO : EPOCH 23 - PROGRESS: at 95.56% examples, 545774 words/s, in_qsize 14, out_qsize 1\n",
      "2019-10-15 11:27:45,201 : INFO : worker thread finished; awaiting finish of 7 more threads\n",
      "2019-10-15 11:27:45,209 : INFO : worker thread finished; awaiting finish of 6 more threads\n",
      "2019-10-15 11:27:45,209 : INFO : worker thread finished; awaiting finish of 5 more threads\n",
      "2019-10-15 11:27:45,217 : INFO : worker thread finished; awaiting finish of 4 more threads\n",
      "2019-10-15 11:27:45,233 : INFO : worker thread finished; awaiting finish of 3 more threads\n",
      "2019-10-15 11:27:45,253 : INFO : worker thread finished; awaiting finish of 2 more threads\n",
      "2019-10-15 11:27:45,257 : INFO : worker thread finished; awaiting finish of 1 more threads\n",
      "2019-10-15 11:27:45,257 : INFO : worker thread finished; awaiting finish of 0 more threads\n",
      "2019-10-15 11:27:45,265 : INFO : EPOCH - 23 : training on 9227204 raw words (8223143 effective words) took 15.1s, 545119 effective words/s\n",
      "2019-10-15 11:27:46,312 : INFO : EPOCH 24 - PROGRESS: at 5.54% examples, 437571 words/s, in_qsize 16, out_qsize 0\n",
      "2019-10-15 11:27:47,333 : INFO : EPOCH 24 - PROGRESS: at 13.15% examples, 524797 words/s, in_qsize 13, out_qsize 2\n",
      "2019-10-15 11:27:48,365 : INFO : EPOCH 24 - PROGRESS: at 19.73% examples, 525669 words/s, in_qsize 15, out_qsize 0\n",
      "2019-10-15 11:27:49,388 : INFO : EPOCH 24 - PROGRESS: at 25.59% examples, 511733 words/s, in_qsize 13, out_qsize 2\n",
      "2019-10-15 11:27:50,416 : INFO : EPOCH 24 - PROGRESS: at 32.08% examples, 513339 words/s, in_qsize 13, out_qsize 2\n",
      "2019-10-15 11:27:51,420 : INFO : EPOCH 24 - PROGRESS: at 38.56% examples, 516504 words/s, in_qsize 16, out_qsize 0\n",
      "2019-10-15 11:27:52,436 : INFO : EPOCH 24 - PROGRESS: at 45.05% examples, 517766 words/s, in_qsize 14, out_qsize 1\n",
      "2019-10-15 11:27:53,440 : INFO : EPOCH 24 - PROGRESS: at 51.43% examples, 518630 words/s, in_qsize 16, out_qsize 1\n",
      "2019-10-15 11:27:54,472 : INFO : EPOCH 24 - PROGRESS: at 57.27% examples, 512788 words/s, in_qsize 15, out_qsize 0\n",
      "2019-10-15 11:27:55,491 : INFO : EPOCH 24 - PROGRESS: at 63.00% examples, 507836 words/s, in_qsize 15, out_qsize 0\n",
      "2019-10-15 11:27:56,509 : INFO : EPOCH 24 - PROGRESS: at 70.05% examples, 513388 words/s, in_qsize 16, out_qsize 1\n",
      "2019-10-15 11:27:57,517 : INFO : EPOCH 24 - PROGRESS: at 77.63% examples, 522050 words/s, in_qsize 15, out_qsize 0\n",
      "2019-10-15 11:27:58,541 : INFO : EPOCH 24 - PROGRESS: at 84.69% examples, 525306 words/s, in_qsize 15, out_qsize 0\n",
      "2019-10-15 11:27:59,579 : INFO : EPOCH 24 - PROGRESS: at 92.17% examples, 530150 words/s, in_qsize 15, out_qsize 0\n",
      "2019-10-15 11:28:00,565 : INFO : worker thread finished; awaiting finish of 7 more threads\n",
      "2019-10-15 11:28:00,589 : INFO : EPOCH 24 - PROGRESS: at 99.44% examples, 534234 words/s, in_qsize 6, out_qsize 1\n",
      "2019-10-15 11:28:00,597 : INFO : worker thread finished; awaiting finish of 6 more threads\n",
      "2019-10-15 11:28:00,609 : INFO : worker thread finished; awaiting finish of 5 more threads\n",
      "2019-10-15 11:28:00,621 : INFO : worker thread finished; awaiting finish of 4 more threads\n",
      "2019-10-15 11:28:00,645 : INFO : worker thread finished; awaiting finish of 3 more threads\n",
      "2019-10-15 11:28:00,649 : INFO : worker thread finished; awaiting finish of 2 more threads\n",
      "2019-10-15 11:28:00,653 : INFO : worker thread finished; awaiting finish of 1 more threads\n",
      "2019-10-15 11:28:00,657 : INFO : worker thread finished; awaiting finish of 0 more threads\n",
      "2019-10-15 11:28:00,657 : INFO : EPOCH - 24 : training on 9227204 raw words (8223179 effective words) took 15.4s, 534758 effective words/s\n",
      "2019-10-15 11:28:01,691 : INFO : EPOCH 25 - PROGRESS: at 6.29% examples, 508103 words/s, in_qsize 15, out_qsize 0\n",
      "2019-10-15 11:28:02,759 : INFO : EPOCH 25 - PROGRESS: at 14.11% examples, 554906 words/s, in_qsize 15, out_qsize 0\n",
      "2019-10-15 11:28:03,790 : INFO : EPOCH 25 - PROGRESS: at 22.01% examples, 580559 words/s, in_qsize 15, out_qsize 0\n",
      "2019-10-15 11:28:04,794 : INFO : EPOCH 25 - PROGRESS: at 29.38% examples, 585923 words/s, in_qsize 16, out_qsize 0\n",
      "2019-10-15 11:28:05,802 : INFO : EPOCH 25 - PROGRESS: at 35.43% examples, 567957 words/s, in_qsize 15, out_qsize 0\n",
      "2019-10-15 11:28:06,814 : INFO : EPOCH 25 - PROGRESS: at 41.92% examples, 561277 words/s, in_qsize 12, out_qsize 3\n",
      "2019-10-15 11:28:07,822 : INFO : EPOCH 25 - PROGRESS: at 48.40% examples, 557187 words/s, in_qsize 14, out_qsize 1\n",
      "2019-10-15 11:28:08,859 : INFO : EPOCH 25 - PROGRESS: at 54.24% examples, 545383 words/s, in_qsize 14, out_qsize 2\n",
      "2019-10-15 11:28:09,875 : INFO : EPOCH 25 - PROGRESS: at 60.20% examples, 538387 words/s, in_qsize 16, out_qsize 3\n",
      "2019-10-15 11:28:10,879 : INFO : EPOCH 25 - PROGRESS: at 66.15% examples, 533312 words/s, in_qsize 16, out_qsize 0\n",
      "2019-10-15 11:28:11,899 : INFO : EPOCH 25 - PROGRESS: at 72.43% examples, 530934 words/s, in_qsize 14, out_qsize 1\n",
      "2019-10-15 11:28:12,907 : INFO : EPOCH 25 - PROGRESS: at 79.71% examples, 535977 words/s, in_qsize 15, out_qsize 0\n"
     ]
    },
    {
     "name": "stderr",
     "output_type": "stream",
     "text": [
      "2019-10-15 11:28:13,912 : INFO : EPOCH 25 - PROGRESS: at 86.85% examples, 539743 words/s, in_qsize 16, out_qsize 0\n",
      "2019-10-15 11:28:14,920 : INFO : EPOCH 25 - PROGRESS: at 93.81% examples, 541554 words/s, in_qsize 14, out_qsize 1\n",
      "2019-10-15 11:28:15,624 : INFO : worker thread finished; awaiting finish of 7 more threads\n",
      "2019-10-15 11:28:15,636 : INFO : worker thread finished; awaiting finish of 6 more threads\n",
      "2019-10-15 11:28:15,640 : INFO : worker thread finished; awaiting finish of 5 more threads\n",
      "2019-10-15 11:28:15,648 : INFO : worker thread finished; awaiting finish of 4 more threads\n",
      "2019-10-15 11:28:15,668 : INFO : worker thread finished; awaiting finish of 3 more threads\n",
      "2019-10-15 11:28:15,676 : INFO : worker thread finished; awaiting finish of 2 more threads\n",
      "2019-10-15 11:28:15,676 : INFO : worker thread finished; awaiting finish of 1 more threads\n",
      "2019-10-15 11:28:15,680 : INFO : worker thread finished; awaiting finish of 0 more threads\n",
      "2019-10-15 11:28:15,684 : INFO : EPOCH - 25 : training on 9227204 raw words (8222902 effective words) took 15.0s, 547874 effective words/s\n",
      "2019-10-15 11:28:16,710 : INFO : EPOCH 26 - PROGRESS: at 7.06% examples, 572174 words/s, in_qsize 14, out_qsize 1\n",
      "2019-10-15 11:28:17,709 : INFO : EPOCH 26 - PROGRESS: at 14.65% examples, 596912 words/s, in_qsize 15, out_qsize 0\n",
      "2019-10-15 11:28:18,730 : INFO : EPOCH 26 - PROGRESS: at 21.46% examples, 581727 words/s, in_qsize 12, out_qsize 3\n",
      "2019-10-15 11:28:19,795 : INFO : EPOCH 26 - PROGRESS: at 28.51% examples, 571865 words/s, in_qsize 15, out_qsize 0\n",
      "2019-10-15 11:28:20,831 : INFO : EPOCH 26 - PROGRESS: at 35.87% examples, 574209 words/s, in_qsize 15, out_qsize 0\n",
      "2019-10-15 11:28:21,835 : INFO : EPOCH 26 - PROGRESS: at 43.75% examples, 586228 words/s, in_qsize 15, out_qsize 0\n",
      "2019-10-15 11:28:22,863 : INFO : EPOCH 26 - PROGRESS: at 50.88% examples, 584407 words/s, in_qsize 14, out_qsize 1\n",
      "2019-10-15 11:28:23,869 : INFO : EPOCH 26 - PROGRESS: at 57.59% examples, 579910 words/s, in_qsize 16, out_qsize 1\n",
      "2019-10-15 11:28:24,884 : INFO : EPOCH 26 - PROGRESS: at 65.17% examples, 583674 words/s, in_qsize 15, out_qsize 0\n",
      "2019-10-15 11:28:25,900 : INFO : EPOCH 26 - PROGRESS: at 72.43% examples, 584076 words/s, in_qsize 15, out_qsize 0\n",
      "2019-10-15 11:28:26,898 : INFO : EPOCH 26 - PROGRESS: at 79.38% examples, 582693 words/s, in_qsize 14, out_qsize 1\n",
      "2019-10-15 11:28:27,904 : INFO : EPOCH 26 - PROGRESS: at 87.18% examples, 587424 words/s, in_qsize 15, out_qsize 0\n",
      "2019-10-15 11:28:28,906 : INFO : EPOCH 26 - PROGRESS: at 93.59% examples, 582667 words/s, in_qsize 13, out_qsize 2\n",
      "2019-10-15 11:28:29,673 : INFO : worker thread finished; awaiting finish of 7 more threads\n",
      "2019-10-15 11:28:29,717 : INFO : worker thread finished; awaiting finish of 6 more threads\n",
      "2019-10-15 11:28:29,721 : INFO : worker thread finished; awaiting finish of 5 more threads\n",
      "2019-10-15 11:28:29,729 : INFO : worker thread finished; awaiting finish of 4 more threads\n",
      "2019-10-15 11:28:29,733 : INFO : worker thread finished; awaiting finish of 3 more threads\n",
      "2019-10-15 11:28:29,733 : INFO : worker thread finished; awaiting finish of 2 more threads\n",
      "2019-10-15 11:28:29,741 : INFO : worker thread finished; awaiting finish of 1 more threads\n",
      "2019-10-15 11:28:29,745 : INFO : worker thread finished; awaiting finish of 0 more threads\n",
      "2019-10-15 11:28:29,745 : INFO : EPOCH - 26 : training on 9227204 raw words (8222858 effective words) took 14.0s, 585329 effective words/s\n",
      "2019-10-15 11:28:30,765 : INFO : EPOCH 27 - PROGRESS: at 6.08% examples, 495309 words/s, in_qsize 15, out_qsize 0\n",
      "2019-10-15 11:28:31,777 : INFO : EPOCH 27 - PROGRESS: at 13.14% examples, 534570 words/s, in_qsize 16, out_qsize 4\n",
      "2019-10-15 11:28:32,849 : INFO : EPOCH 27 - PROGRESS: at 20.59% examples, 548004 words/s, in_qsize 15, out_qsize 2\n",
      "2019-10-15 11:28:33,861 : INFO : EPOCH 27 - PROGRESS: at 28.29% examples, 566803 words/s, in_qsize 15, out_qsize 0\n",
      "2019-10-15 11:28:34,865 : INFO : EPOCH 27 - PROGRESS: at 35.21% examples, 566794 words/s, in_qsize 15, out_qsize 0\n",
      "2019-10-15 11:28:35,866 : INFO : EPOCH 27 - PROGRESS: at 41.81% examples, 562422 words/s, in_qsize 15, out_qsize 0\n",
      "2019-10-15 11:28:36,898 : INFO : EPOCH 27 - PROGRESS: at 49.59% examples, 571553 words/s, in_qsize 15, out_qsize 0\n",
      "2019-10-15 11:28:37,914 : INFO : EPOCH 27 - PROGRESS: at 56.51% examples, 570419 words/s, in_qsize 15, out_qsize 0\n",
      "2019-10-15 11:28:38,952 : INFO : EPOCH 27 - PROGRESS: at 63.87% examples, 571789 words/s, in_qsize 15, out_qsize 0\n",
      "2019-10-15 11:28:39,992 : INFO : EPOCH 27 - PROGRESS: at 71.24% examples, 572926 words/s, in_qsize 15, out_qsize 0\n",
      "2019-10-15 11:28:41,014 : INFO : EPOCH 27 - PROGRESS: at 78.95% examples, 577042 words/s, in_qsize 15, out_qsize 0\n",
      "2019-10-15 11:28:42,024 : INFO : EPOCH 27 - PROGRESS: at 86.10% examples, 577254 words/s, in_qsize 15, out_qsize 0\n",
      "2019-10-15 11:28:43,035 : INFO : EPOCH 27 - PROGRESS: at 93.48% examples, 578750 words/s, in_qsize 12, out_qsize 3\n",
      "2019-10-15 11:28:43,872 : INFO : worker thread finished; awaiting finish of 7 more threads\n",
      "2019-10-15 11:28:43,888 : INFO : worker thread finished; awaiting finish of 6 more threads\n",
      "2019-10-15 11:28:43,892 : INFO : worker thread finished; awaiting finish of 5 more threads\n",
      "2019-10-15 11:28:43,892 : INFO : worker thread finished; awaiting finish of 4 more threads\n",
      "2019-10-15 11:28:43,904 : INFO : worker thread finished; awaiting finish of 3 more threads\n",
      "2019-10-15 11:28:43,912 : INFO : worker thread finished; awaiting finish of 2 more threads\n",
      "2019-10-15 11:28:43,912 : INFO : worker thread finished; awaiting finish of 1 more threads\n",
      "2019-10-15 11:28:43,920 : INFO : worker thread finished; awaiting finish of 0 more threads\n",
      "2019-10-15 11:28:43,920 : INFO : EPOCH - 27 : training on 9227204 raw words (8222363 effective words) took 14.2s, 580587 effective words/s\n",
      "2019-10-15 11:28:44,980 : INFO : EPOCH 28 - PROGRESS: at 6.41% examples, 504540 words/s, in_qsize 16, out_qsize 6\n",
      "2019-10-15 11:28:45,984 : INFO : EPOCH 28 - PROGRESS: at 13.68% examples, 548015 words/s, in_qsize 15, out_qsize 0\n",
      "2019-10-15 11:28:46,992 : INFO : EPOCH 28 - PROGRESS: at 21.03% examples, 565623 words/s, in_qsize 15, out_qsize 0\n",
      "2019-10-15 11:28:48,007 : INFO : EPOCH 28 - PROGRESS: at 27.96% examples, 564897 words/s, in_qsize 16, out_qsize 0\n",
      "2019-10-15 11:28:49,058 : INFO : EPOCH 28 - PROGRESS: at 35.32% examples, 566847 words/s, in_qsize 16, out_qsize 1\n",
      "2019-10-15 11:28:50,084 : INFO : EPOCH 28 - PROGRESS: at 43.32% examples, 579784 words/s, in_qsize 13, out_qsize 2\n",
      "2019-10-15 11:28:51,073 : INFO : EPOCH 28 - PROGRESS: at 50.78% examples, 584585 words/s, in_qsize 15, out_qsize 0\n",
      "2019-10-15 11:28:52,156 : INFO : EPOCH 28 - PROGRESS: at 58.47% examples, 585190 words/s, in_qsize 16, out_qsize 2\n",
      "2019-10-15 11:28:53,188 : INFO : EPOCH 28 - PROGRESS: at 65.93% examples, 586555 words/s, in_qsize 15, out_qsize 0\n",
      "2019-10-15 11:28:54,189 : INFO : EPOCH 28 - PROGRESS: at 73.41% examples, 589189 words/s, in_qsize 15, out_qsize 0\n",
      "2019-10-15 11:28:55,193 : INFO : EPOCH 28 - PROGRESS: at 80.47% examples, 588073 words/s, in_qsize 15, out_qsize 0\n",
      "2019-10-15 11:28:56,213 : INFO : EPOCH 28 - PROGRESS: at 87.07% examples, 583494 words/s, in_qsize 15, out_qsize 0\n",
      "2019-10-15 11:28:57,253 : INFO : EPOCH 28 - PROGRESS: at 95.23% examples, 587991 words/s, in_qsize 15, out_qsize 0\n",
      "2019-10-15 11:28:57,761 : INFO : worker thread finished; awaiting finish of 7 more threads\n",
      "2019-10-15 11:28:57,769 : INFO : worker thread finished; awaiting finish of 6 more threads\n",
      "2019-10-15 11:28:57,785 : INFO : worker thread finished; awaiting finish of 5 more threads\n",
      "2019-10-15 11:28:57,789 : INFO : worker thread finished; awaiting finish of 4 more threads\n",
      "2019-10-15 11:28:57,801 : INFO : worker thread finished; awaiting finish of 3 more threads\n",
      "2019-10-15 11:28:57,805 : INFO : worker thread finished; awaiting finish of 2 more threads\n",
      "2019-10-15 11:28:57,809 : INFO : worker thread finished; awaiting finish of 1 more threads\n",
      "2019-10-15 11:28:57,809 : INFO : worker thread finished; awaiting finish of 0 more threads\n",
      "2019-10-15 11:28:57,809 : INFO : EPOCH - 28 : training on 9227204 raw words (8222151 effective words) took 13.9s, 592659 effective words/s\n",
      "2019-10-15 11:28:58,868 : INFO : EPOCH 29 - PROGRESS: at 7.50% examples, 593501 words/s, in_qsize 15, out_qsize 0\n"
     ]
    },
    {
     "name": "stderr",
     "output_type": "stream",
     "text": [
      "2019-10-15 11:28:59,890 : INFO : EPOCH 29 - PROGRESS: at 14.86% examples, 592951 words/s, in_qsize 14, out_qsize 1\n",
      "2019-10-15 11:29:00,970 : INFO : EPOCH 29 - PROGRESS: at 22.11% examples, 579235 words/s, in_qsize 15, out_qsize 0\n",
      "2019-10-15 11:29:01,990 : INFO : EPOCH 29 - PROGRESS: at 29.16% examples, 576515 words/s, in_qsize 16, out_qsize 0\n",
      "2019-10-15 11:29:02,994 : INFO : EPOCH 29 - PROGRESS: at 36.29% examples, 577904 words/s, in_qsize 16, out_qsize 0\n",
      "2019-10-15 11:29:04,037 : INFO : EPOCH 29 - PROGRESS: at 43.11% examples, 571168 words/s, in_qsize 14, out_qsize 1\n",
      "2019-10-15 11:29:05,044 : INFO : EPOCH 29 - PROGRESS: at 50.35% examples, 574224 words/s, in_qsize 16, out_qsize 2\n",
      "2019-10-15 11:29:06,071 : INFO : EPOCH 29 - PROGRESS: at 57.60% examples, 575110 words/s, in_qsize 12, out_qsize 3\n",
      "2019-10-15 11:29:07,087 : INFO : EPOCH 29 - PROGRESS: at 64.51% examples, 573631 words/s, in_qsize 16, out_qsize 0\n",
      "2019-10-15 11:29:08,087 : INFO : EPOCH 29 - PROGRESS: at 71.78% examples, 575793 words/s, in_qsize 15, out_qsize 0\n",
      "2019-10-15 11:29:09,105 : INFO : EPOCH 29 - PROGRESS: at 78.18% examples, 570505 words/s, in_qsize 14, out_qsize 1\n",
      "2019-10-15 11:29:10,111 : INFO : EPOCH 29 - PROGRESS: at 85.02% examples, 569064 words/s, in_qsize 15, out_qsize 0\n",
      "2019-10-15 11:29:11,128 : INFO : EPOCH 29 - PROGRESS: at 91.85% examples, 568158 words/s, in_qsize 15, out_qsize 0\n",
      "2019-10-15 11:29:12,104 : INFO : worker thread finished; awaiting finish of 7 more threads\n",
      "2019-10-15 11:29:12,108 : INFO : worker thread finished; awaiting finish of 6 more threads\n",
      "2019-10-15 11:29:12,116 : INFO : worker thread finished; awaiting finish of 5 more threads\n",
      "2019-10-15 11:29:12,124 : INFO : worker thread finished; awaiting finish of 4 more threads\n",
      "2019-10-15 11:29:12,144 : INFO : EPOCH 29 - PROGRESS: at 99.67% examples, 572656 words/s, in_qsize 3, out_qsize 1\n",
      "2019-10-15 11:29:12,148 : INFO : worker thread finished; awaiting finish of 3 more threads\n",
      "2019-10-15 11:29:12,148 : INFO : worker thread finished; awaiting finish of 2 more threads\n",
      "2019-10-15 11:29:12,160 : INFO : worker thread finished; awaiting finish of 1 more threads\n",
      "2019-10-15 11:29:12,172 : INFO : worker thread finished; awaiting finish of 0 more threads\n",
      "2019-10-15 11:29:12,176 : INFO : EPOCH - 29 : training on 9227204 raw words (8222002 effective words) took 14.3s, 573293 effective words/s\n",
      "2019-10-15 11:29:13,256 : INFO : EPOCH 30 - PROGRESS: at 6.95% examples, 535298 words/s, in_qsize 16, out_qsize 0\n",
      "2019-10-15 11:29:14,274 : INFO : EPOCH 30 - PROGRESS: at 14.11% examples, 555859 words/s, in_qsize 16, out_qsize 0\n",
      "2019-10-15 11:29:15,294 : INFO : EPOCH 30 - PROGRESS: at 20.70% examples, 547944 words/s, in_qsize 16, out_qsize 1\n",
      "2019-10-15 11:29:16,310 : INFO : EPOCH 30 - PROGRESS: at 28.18% examples, 562064 words/s, in_qsize 14, out_qsize 1\n",
      "2019-10-15 11:29:17,358 : INFO : EPOCH 30 - PROGRESS: at 35.86% examples, 570499 words/s, in_qsize 14, out_qsize 1\n",
      "2019-10-15 11:29:18,359 : INFO : EPOCH 30 - PROGRESS: at 43.11% examples, 574507 words/s, in_qsize 15, out_qsize 0\n",
      "2019-10-15 11:29:19,385 : INFO : EPOCH 30 - PROGRESS: at 49.92% examples, 570699 words/s, in_qsize 16, out_qsize 0\n",
      "2019-10-15 11:29:20,400 : INFO : EPOCH 30 - PROGRESS: at 56.84% examples, 568962 words/s, in_qsize 15, out_qsize 0\n",
      "2019-10-15 11:29:21,440 : INFO : EPOCH 30 - PROGRESS: at 63.75% examples, 567208 words/s, in_qsize 16, out_qsize 1\n",
      "2019-10-15 11:29:22,440 : INFO : EPOCH 30 - PROGRESS: at 71.13% examples, 570911 words/s, in_qsize 16, out_qsize 1\n",
      "2019-10-15 11:29:23,455 : INFO : EPOCH 30 - PROGRESS: at 77.63% examples, 566684 words/s, in_qsize 16, out_qsize 0\n",
      "2019-10-15 11:29:24,461 : INFO : EPOCH 30 - PROGRESS: at 84.58% examples, 566940 words/s, in_qsize 15, out_qsize 0\n",
      "2019-10-15 11:29:25,475 : INFO : EPOCH 30 - PROGRESS: at 91.20% examples, 564304 words/s, in_qsize 16, out_qsize 0\n",
      "2019-10-15 11:29:26,500 : INFO : EPOCH 30 - PROGRESS: at 98.90% examples, 567998 words/s, in_qsize 9, out_qsize 2\n",
      "2019-10-15 11:29:26,547 : INFO : worker thread finished; awaiting finish of 7 more threads\n",
      "2019-10-15 11:29:26,547 : INFO : worker thread finished; awaiting finish of 6 more threads\n",
      "2019-10-15 11:29:26,547 : INFO : worker thread finished; awaiting finish of 5 more threads\n",
      "2019-10-15 11:29:26,547 : INFO : worker thread finished; awaiting finish of 4 more threads\n",
      "2019-10-15 11:29:26,565 : INFO : worker thread finished; awaiting finish of 3 more threads\n",
      "2019-10-15 11:29:26,585 : INFO : worker thread finished; awaiting finish of 2 more threads\n",
      "2019-10-15 11:29:26,589 : INFO : worker thread finished; awaiting finish of 1 more threads\n",
      "2019-10-15 11:29:26,597 : INFO : worker thread finished; awaiting finish of 0 more threads\n",
      "2019-10-15 11:29:26,601 : INFO : EPOCH - 30 : training on 9227204 raw words (8223159 effective words) took 14.4s, 570617 effective words/s\n",
      "2019-10-15 11:29:27,637 : INFO : EPOCH 31 - PROGRESS: at 7.06% examples, 567499 words/s, in_qsize 15, out_qsize 0\n",
      "2019-10-15 11:29:28,644 : INFO : EPOCH 31 - PROGRESS: at 13.58% examples, 548927 words/s, in_qsize 16, out_qsize 0\n",
      "2019-10-15 11:29:29,650 : INFO : EPOCH 31 - PROGRESS: at 20.48% examples, 554605 words/s, in_qsize 16, out_qsize 0\n",
      "2019-10-15 11:29:30,673 : INFO : EPOCH 31 - PROGRESS: at 27.75% examples, 561209 words/s, in_qsize 15, out_qsize 0\n",
      "2019-10-15 11:29:31,684 : INFO : EPOCH 31 - PROGRESS: at 34.78% examples, 564438 words/s, in_qsize 14, out_qsize 1\n",
      "2019-10-15 11:29:32,696 : INFO : EPOCH 31 - PROGRESS: at 41.92% examples, 566952 words/s, in_qsize 16, out_qsize 0\n",
      "2019-10-15 11:29:33,720 : INFO : EPOCH 31 - PROGRESS: at 49.38% examples, 572003 words/s, in_qsize 16, out_qsize 1\n",
      "2019-10-15 11:29:34,733 : INFO : EPOCH 31 - PROGRESS: at 56.84% examples, 576311 words/s, in_qsize 15, out_qsize 0\n",
      "2019-10-15 11:29:35,737 : INFO : EPOCH 31 - PROGRESS: at 63.11% examples, 569558 words/s, in_qsize 12, out_qsize 3\n",
      "2019-10-15 11:29:36,741 : INFO : EPOCH 31 - PROGRESS: at 69.94% examples, 568334 words/s, in_qsize 16, out_qsize 1\n",
      "2019-10-15 11:29:37,745 : INFO : EPOCH 31 - PROGRESS: at 76.88% examples, 568261 words/s, in_qsize 16, out_qsize 2\n",
      "2019-10-15 11:29:38,759 : INFO : EPOCH 31 - PROGRESS: at 84.26% examples, 570869 words/s, in_qsize 15, out_qsize 1\n",
      "2019-10-15 11:29:39,766 : INFO : EPOCH 31 - PROGRESS: at 91.52% examples, 572380 words/s, in_qsize 15, out_qsize 0\n",
      "2019-10-15 11:29:40,781 : INFO : EPOCH 31 - PROGRESS: at 99.23% examples, 575973 words/s, in_qsize 8, out_qsize 0\n",
      "2019-10-15 11:29:40,785 : INFO : worker thread finished; awaiting finish of 7 more threads\n",
      "2019-10-15 11:29:40,789 : INFO : worker thread finished; awaiting finish of 6 more threads\n",
      "2019-10-15 11:29:40,801 : INFO : worker thread finished; awaiting finish of 5 more threads\n",
      "2019-10-15 11:29:40,805 : INFO : worker thread finished; awaiting finish of 4 more threads\n",
      "2019-10-15 11:29:40,813 : INFO : worker thread finished; awaiting finish of 3 more threads\n",
      "2019-10-15 11:29:40,817 : INFO : worker thread finished; awaiting finish of 2 more threads\n",
      "2019-10-15 11:29:40,821 : INFO : worker thread finished; awaiting finish of 1 more threads\n",
      "2019-10-15 11:29:40,829 : INFO : worker thread finished; awaiting finish of 0 more threads\n",
      "2019-10-15 11:29:40,833 : INFO : EPOCH - 31 : training on 9227204 raw words (8223155 effective words) took 14.2s, 578427 effective words/s\n",
      "2019-10-15 11:29:41,866 : INFO : EPOCH 32 - PROGRESS: at 6.95% examples, 557289 words/s, in_qsize 15, out_qsize 0\n",
      "2019-10-15 11:29:42,885 : INFO : EPOCH 32 - PROGRESS: at 14.33% examples, 577360 words/s, in_qsize 15, out_qsize 0\n",
      "2019-10-15 11:29:43,946 : INFO : EPOCH 32 - PROGRESS: at 21.46% examples, 569272 words/s, in_qsize 15, out_qsize 3\n",
      "2019-10-15 11:29:44,956 : INFO : EPOCH 32 - PROGRESS: at 28.72% examples, 573436 words/s, in_qsize 15, out_qsize 0\n",
      "2019-10-15 11:29:45,973 : INFO : EPOCH 32 - PROGRESS: at 36.29% examples, 582313 words/s, in_qsize 15, out_qsize 0\n",
      "2019-10-15 11:29:46,973 : INFO : EPOCH 32 - PROGRESS: at 43.43% examples, 583030 words/s, in_qsize 15, out_qsize 0\n",
      "2019-10-15 11:29:47,977 : INFO : EPOCH 32 - PROGRESS: at 50.13% examples, 578590 words/s, in_qsize 13, out_qsize 2\n",
      "2019-10-15 11:29:48,980 : INFO : EPOCH 32 - PROGRESS: at 57.71% examples, 583841 words/s, in_qsize 14, out_qsize 1\n"
     ]
    },
    {
     "name": "stderr",
     "output_type": "stream",
     "text": [
      "2019-10-15 11:29:49,992 : INFO : EPOCH 32 - PROGRESS: at 64.41% examples, 579584 words/s, in_qsize 15, out_qsize 0\n",
      "2019-10-15 11:29:51,004 : INFO : EPOCH 32 - PROGRESS: at 71.34% examples, 578057 words/s, in_qsize 14, out_qsize 1\n",
      "2019-10-15 11:29:52,008 : INFO : EPOCH 32 - PROGRESS: at 78.07% examples, 575592 words/s, in_qsize 15, out_qsize 0\n",
      "2019-10-15 11:29:53,044 : INFO : EPOCH 32 - PROGRESS: at 84.69% examples, 571231 words/s, in_qsize 13, out_qsize 5\n",
      "2019-10-15 11:29:54,050 : INFO : EPOCH 32 - PROGRESS: at 92.06% examples, 573400 words/s, in_qsize 15, out_qsize 0\n",
      "2019-10-15 11:29:55,027 : INFO : worker thread finished; awaiting finish of 7 more threads\n",
      "2019-10-15 11:29:55,027 : INFO : worker thread finished; awaiting finish of 6 more threads\n",
      "2019-10-15 11:29:55,027 : INFO : worker thread finished; awaiting finish of 5 more threads\n",
      "2019-10-15 11:29:55,027 : INFO : worker thread finished; awaiting finish of 4 more threads\n",
      "2019-10-15 11:29:55,051 : INFO : worker thread finished; awaiting finish of 3 more threads\n",
      "2019-10-15 11:29:55,059 : INFO : EPOCH 32 - PROGRESS: at 99.78% examples, 577272 words/s, in_qsize 2, out_qsize 1\n",
      "2019-10-15 11:29:55,063 : INFO : worker thread finished; awaiting finish of 2 more threads\n",
      "2019-10-15 11:29:55,075 : INFO : worker thread finished; awaiting finish of 1 more threads\n",
      "2019-10-15 11:29:55,079 : INFO : worker thread finished; awaiting finish of 0 more threads\n",
      "2019-10-15 11:29:55,083 : INFO : EPOCH - 32 : training on 9227204 raw words (8222438 effective words) took 14.2s, 577617 effective words/s\n",
      "2019-10-15 11:29:55,087 : INFO : training on a 295270528 raw words (263124515 effective words) took 446.2s, 589698 effective words/s\n"
     ]
    },
    {
     "name": "stdout",
     "output_type": "stream",
     "text": [
      "Wall time: 7min 26s\n"
     ]
    },
    {
     "data": {
      "text/plain": [
       "(263124515, 295270528)"
      ]
     },
     "execution_count": 21,
     "metadata": {},
     "output_type": "execute_result"
    }
   ],
   "source": [
    "%%time\n",
    "w2v_model.train(documents, total_examples=len(documents), epochs=W2V_EPOCH)"
   ]
  },
  {
   "cell_type": "code",
   "execution_count": 22,
   "metadata": {},
   "outputs": [
    {
     "name": "stderr",
     "output_type": "stream",
     "text": [
      "C:\\Users\\utkarsh\\Anaconda3\\lib\\site-packages\\ipykernel_launcher.py:1: DeprecationWarning: Call to deprecated `most_similar` (Method will be removed in 4.0.0, use self.wv.most_similar() instead).\n",
      "  \"\"\"Entry point for launching an IPython kernel.\n",
      "2019-10-15 11:29:55,099 : INFO : precomputing L2-norms of word weight vectors\n"
     ]
    },
    {
     "data": {
      "text/plain": [
       "[('luv', 0.5772371888160706),\n",
       " ('loves', 0.560002863407135),\n",
       " ('loved', 0.5447041392326355),\n",
       " ('adore', 0.5088313817977905),\n",
       " ('amazing', 0.5046148300170898),\n",
       " ('looove', 0.5006033778190613),\n",
       " ('loveee', 0.46513229608535767),\n",
       " ('awesome', 0.46487292647361755),\n",
       " ('lovee', 0.44180411100387573),\n",
       " ('loooove', 0.43684259057044983)]"
      ]
     },
     "execution_count": 22,
     "metadata": {},
     "output_type": "execute_result"
    }
   ],
   "source": [
    "w2v_model.most_similar(\"love\")"
   ]
  },
  {
   "cell_type": "code",
   "execution_count": 24,
   "metadata": {},
   "outputs": [
    {
     "name": "stdout",
     "output_type": "stream",
     "text": [
      "Total words 290419\n"
     ]
    }
   ],
   "source": [
    "#Tokenize text\n",
    "tokenizer = Tokenizer()\n",
    "tokenizer.fit_on_texts(df_train.text)\n",
    "\n",
    "vocab_size = len(tokenizer.word_index) + 1\n",
    "print(\"Total words\", vocab_size)"
   ]
  },
  {
   "cell_type": "code",
   "execution_count": 25,
   "metadata": {},
   "outputs": [
    {
     "name": "stdout",
     "output_type": "stream",
     "text": [
      "Wall time: 35.3 s\n"
     ]
    }
   ],
   "source": [
    "%%time\n",
    "x_train = pad_sequences(tokenizer.texts_to_sequences(df_train.text), maxlen=SEQUENCE_LENGTH)\n",
    "x_test = pad_sequences(tokenizer.texts_to_sequences(df_test.text), maxlen=SEQUENCE_LENGTH)"
   ]
  },
  {
   "cell_type": "code",
   "execution_count": 26,
   "metadata": {},
   "outputs": [
    {
     "data": {
      "text/plain": [
       "['POSITIVE', 'NEGATIVE', 'NEUTRAL']"
      ]
     },
     "execution_count": 26,
     "metadata": {},
     "output_type": "execute_result"
    }
   ],
   "source": [
    "#label Encoder\n",
    "labels = df_train.target.unique().tolist()\n",
    "labels.append(NEUTRAL)\n",
    "labels"
   ]
  },
  {
   "cell_type": "code",
   "execution_count": 27,
   "metadata": {},
   "outputs": [
    {
     "name": "stdout",
     "output_type": "stream",
     "text": [
      "y_train (1280000, 1)\n",
      "y_test (320000, 1)\n"
     ]
    }
   ],
   "source": [
    "encoder = LabelEncoder()\n",
    "encoder.fit(df_train.target.tolist())\n",
    "\n",
    "y_train = encoder.transform(df_train.target.tolist())\n",
    "y_test = encoder.transform(df_test.target.tolist())\n",
    "\n",
    "y_train = y_train.reshape(-1,1)\n",
    "y_test = y_test.reshape(-1,1)\n",
    "\n",
    "print(\"y_train\",y_train.shape)\n",
    "print(\"y_test\",y_test.shape)"
   ]
  },
  {
   "cell_type": "code",
   "execution_count": 28,
   "metadata": {},
   "outputs": [
    {
     "name": "stdout",
     "output_type": "stream",
     "text": [
      "x_train (1280000, 300)\n",
      "y_train (1280000, 1)\n",
      "\n",
      "x_test (320000, 300)\n",
      "y_test (320000, 1)\n"
     ]
    }
   ],
   "source": [
    "print(\"x_train\", x_train.shape)\n",
    "print(\"y_train\", y_train.shape)\n",
    "print()\n",
    "print(\"x_test\", x_test.shape)\n",
    "print(\"y_test\", y_test.shape)"
   ]
  },
  {
   "cell_type": "code",
   "execution_count": 29,
   "metadata": {},
   "outputs": [
    {
     "data": {
      "text/plain": [
       "array([[1],\n",
       "       [1],\n",
       "       [1],\n",
       "       [0],\n",
       "       [1],\n",
       "       [1],\n",
       "       [1],\n",
       "       [1],\n",
       "       [1],\n",
       "       [1]], dtype=int64)"
      ]
     },
     "execution_count": 29,
     "metadata": {},
     "output_type": "execute_result"
    }
   ],
   "source": [
    "y_train[:10]"
   ]
  },
  {
   "cell_type": "code",
   "execution_count": 30,
   "metadata": {},
   "outputs": [
    {
     "name": "stdout",
     "output_type": "stream",
     "text": [
      "(290419, 300)\n"
     ]
    }
   ],
   "source": [
    "#Embedding Layer\n",
    "embedding_matrix = np.zeros((vocab_size, W2V_SIZE))\n",
    "for word, i in tokenizer.word_index.items():\n",
    "  if word in w2v_model.wv:\n",
    "    embedding_matrix[i] = w2v_model.wv[word]\n",
    "print(embedding_matrix.shape)"
   ]
  },
  {
   "cell_type": "code",
   "execution_count": 31,
   "metadata": {},
   "outputs": [],
   "source": [
    "embedding_layer = Embedding(vocab_size, W2V_SIZE, weights=[embedding_matrix], input_length=SEQUENCE_LENGTH, trainable=False)"
   ]
  },
  {
   "cell_type": "code",
   "execution_count": 32,
   "metadata": {},
   "outputs": [
    {
     "name": "stdout",
     "output_type": "stream",
     "text": [
      "WARNING:tensorflow:From C:\\Users\\utkarsh\\Anaconda3\\lib\\site-packages\\tensorflow\\python\\ops\\resource_variable_ops.py:435: colocate_with (from tensorflow.python.framework.ops) is deprecated and will be removed in a future version.\n",
      "Instructions for updating:\n",
      "Colocations handled automatically by placer.\n"
     ]
    },
    {
     "name": "stderr",
     "output_type": "stream",
     "text": [
      "2019-10-15 11:31:19,435 : WARNING : From C:\\Users\\utkarsh\\Anaconda3\\lib\\site-packages\\tensorflow\\python\\ops\\resource_variable_ops.py:435: colocate_with (from tensorflow.python.framework.ops) is deprecated and will be removed in a future version.\n",
      "Instructions for updating:\n",
      "Colocations handled automatically by placer.\n"
     ]
    },
    {
     "name": "stdout",
     "output_type": "stream",
     "text": [
      "Model: \"sequential_1\"\n",
      "_________________________________________________________________\n",
      "Layer (type)                 Output Shape              Param #   \n",
      "=================================================================\n",
      "embedding_1 (Embedding)      (None, 300, 300)          87125700  \n",
      "_________________________________________________________________\n",
      "dropout_1 (Dropout)          (None, 300, 300)          0         \n",
      "_________________________________________________________________\n",
      "lstm_1 (LSTM)                (None, 100)               160400    \n",
      "_________________________________________________________________\n",
      "dense_1 (Dense)              (None, 1)                 101       \n",
      "=================================================================\n",
      "Total params: 87,286,201\n",
      "Trainable params: 160,501\n",
      "Non-trainable params: 87,125,700\n",
      "_________________________________________________________________\n"
     ]
    }
   ],
   "source": [
    "# Build Model\n",
    "\n",
    "model = Sequential()\n",
    "model.add(embedding_layer)\n",
    "model.add(Dropout(0.5))\n",
    "model.add(LSTM(100, dropout=0.2, recurrent_dropout=0.2))\n",
    "model.add(Dense(1, activation='sigmoid'))\n",
    "\n",
    "model.summary()"
   ]
  },
  {
   "cell_type": "code",
   "execution_count": 33,
   "metadata": {},
   "outputs": [],
   "source": [
    "model.compile(loss='binary_crossentropy',\n",
    "              optimizer=\"adam\",\n",
    "              metrics=['accuracy'])"
   ]
  },
  {
   "cell_type": "code",
   "execution_count": 34,
   "metadata": {},
   "outputs": [],
   "source": [
    "callbacks = [ ReduceLROnPlateau(monitor='val_loss', patience=5, cooldown=0),\n",
    "              EarlyStopping(monitor='val_acc', min_delta=1e-4, patience=5)]"
   ]
  },
  {
   "cell_type": "code",
   "execution_count": 37,
   "metadata": {},
   "outputs": [
    {
     "name": "stdout",
     "output_type": "stream",
     "text": [
      "Train on 1152000 samples, validate on 128000 samples\n",
      "Epoch 1/4\n",
      "1152000/1152000 [==============================] - 6352s 6ms/step - loss: 0.4944 - accuracy: 0.7571 - val_loss: 0.4607 - val_accuracy: 0.7808\n",
      "Epoch 2/4\n"
     ]
    },
    {
     "name": "stderr",
     "output_type": "stream",
     "text": [
      "C:\\Users\\utkarsh\\Anaconda3\\lib\\site-packages\\keras\\callbacks\\callbacks.py:846: RuntimeWarning: Early stopping conditioned on metric `val_acc` which is not available. Available metrics are: val_loss,val_accuracy,loss,accuracy,lr\n",
      "  (self.monitor, ','.join(list(logs.keys()))), RuntimeWarning\n"
     ]
    },
    {
     "name": "stdout",
     "output_type": "stream",
     "text": [
      "1152000/1152000 [==============================] - 6347s 6ms/step - loss: 0.4814 - accuracy: 0.7658 - val_loss: 0.4567 - val_accuracy: 0.7838\n",
      "Epoch 3/4\n",
      "1152000/1152000 [==============================] - 6352s 6ms/step - loss: 0.4759 - accuracy: 0.7690 - val_loss: 0.4546 - val_accuracy: 0.7855\n",
      "Epoch 4/4\n",
      "1152000/1152000 [==============================] - 6354s 6ms/step - loss: 0.4726 - accuracy: 0.7712 - val_loss: 0.4506 - val_accuracy: 0.7879\n"
     ]
    }
   ],
   "source": [
    "#Train\n",
    "\n",
    "history = model.fit(x_train, y_train,\n",
    "                    batch_size=BATCH_SIZE,\n",
    "                    epochs=4,\n",
    "                    validation_split=0.1,\n",
    "                    verbose=1,\n",
    "                    callbacks=callbacks)"
   ]
  },
  {
   "cell_type": "code",
   "execution_count": 39,
   "metadata": {},
   "outputs": [
    {
     "name": "stdout",
     "output_type": "stream",
     "text": [
      "320000/320000 [==============================] - 558s 2ms/step\n",
      "\n",
      "ACCURACY: 0.7878531217575073\n",
      "LOSS: 0.44944941329956056\n"
     ]
    }
   ],
   "source": [
    "#Evaluate\n",
    "\n",
    "score = model.evaluate(x_test, y_test, batch_size=BATCH_SIZE)\n",
    "print()\n",
    "print(\"ACCURACY:\",score[1])\n",
    "print(\"LOSS:\",score[0])"
   ]
  },
  {
   "cell_type": "code",
   "execution_count": null,
   "metadata": {},
   "outputs": [],
   "source": []
  },
  {
   "cell_type": "code",
   "execution_count": 45,
   "metadata": {},
   "outputs": [
    {
     "data": {
      "image/png": "[encoded data removed]",
      "text/plain": [
       "<Figure size 432x288 with 1 Axes>"
      ]
     },
     "metadata": {
      "needs_background": "light"
     },
     "output_type": "display_data"
    },
    {
     "data": {
      "image/png": "[encoded data removed]",
      "text/plain": [
       "<Figure size 432x288 with 1 Axes>"
      ]
     },
     "metadata": {
      "needs_background": "light"
     },
     "output_type": "display_data"
    }
   ],
   "source": [
    "acc = history.history['accuracy']\n",
    "val_acc = history.history['val_accuracy']\n",
    "loss = history.history['loss']\n",
    "val_loss = history.history['val_loss']\n",
    " \n",
    "epochs = range(len(acc))\n",
    " \n",
    "plt.plot(epochs, acc, 'b', label='Training acc')\n",
    "plt.plot(epochs, val_acc, 'r', label='Validation acc')\n",
    "plt.title('Training and validation accuracy')\n",
    "plt.legend()\n",
    " \n",
    "plt.figure()\n",
    " \n",
    "plt.plot(epochs, loss, 'b', label='Training loss')\n",
    "plt.plot(epochs, val_loss, 'r', label='Validation loss')\n",
    "plt.title('Training and validation loss')\n",
    "plt.legend()\n",
    " \n",
    "plt.show()"
   ]
  },
  {
   "cell_type": "code",
   "execution_count": 46,
   "metadata": {},
   "outputs": [],
   "source": [
    "#Prediction\n",
    "\n",
    "def decode_sentiment(score, include_neutral=True):\n",
    "    if include_neutral:        \n",
    "        label = NEUTRAL\n",
    "        if score <= SENTIMENT_THRESHOLDS[0]:\n",
    "            label = NEGATIVE\n",
    "        elif score >= SENTIMENT_THRESHOLDS[1]:\n",
    "            label = POSITIVE\n",
    "\n",
    "        return label\n",
    "    else:\n",
    "        return NEGATIVE if score < 0.5 else POSITIVE"
   ]
  },
  {
   "cell_type": "code",
   "execution_count": 47,
   "metadata": {},
   "outputs": [],
   "source": [
    "def predict(text, include_neutral=True):\n",
    "    start_at = time.time()\n",
    "    # Tokenize text\n",
    "    x_test = pad_sequences(tokenizer.texts_to_sequences([text]), maxlen=SEQUENCE_LENGTH)\n",
    "    # Predict\n",
    "    score = model.predict([x_test])[0]\n",
    "    # Decode sentiment\n",
    "    label = decode_sentiment(score, include_neutral=include_neutral)\n",
    "\n",
    "    return {\"label\": label, \"score\": float(score),\n",
    "       \"elapsed_time\": time.time()-start_at}  "
   ]
  },
  {
   "cell_type": "code",
   "execution_count": 48,
   "metadata": {},
   "outputs": [
    {
     "data": {
      "text/plain": [
       "{'label': 'POSITIVE',\n",
       " 'score': 0.9721435308456421,\n",
       " 'elapsed_time': 0.7315895557403564}"
      ]
     },
     "execution_count": 48,
     "metadata": {},
     "output_type": "execute_result"
    }
   ],
   "source": [
    "predict(\"I love the music\")"
   ]
  },
  {
   "cell_type": "code",
   "execution_count": 49,
   "metadata": {},
   "outputs": [
    {
     "data": {
      "text/plain": [
       "{'label': 'NEGATIVE',\n",
       " 'score': 0.00889394897967577,\n",
       " 'elapsed_time': 0.05013227462768555}"
      ]
     },
     "execution_count": 49,
     "metadata": {},
     "output_type": "execute_result"
    }
   ],
   "source": [
    "predict(\"I hate the rain\")"
   ]
  },
  {
   "cell_type": "code",
   "execution_count": 50,
   "metadata": {},
   "outputs": [
    {
     "data": {
      "text/plain": [
       "{'label': 'NEGATIVE',\n",
       " 'score': 0.3632024824619293,\n",
       " 'elapsed_time': 0.15047597885131836}"
      ]
     },
     "execution_count": 50,
     "metadata": {},
     "output_type": "execute_result"
    }
   ],
   "source": [
    "predict(\"i don't know what i'm doing\")"
   ]
  },
  {
   "cell_type": "code",
   "execution_count": null,
   "metadata": {},
   "outputs": [
    {
     "name": "stdout",
     "output_type": "stream",
     "text": [
      "120000/320000 [==========>...................] - ETA: 4:06:48"
     ]
    }
   ],
   "source": [
    "\n",
    "y_pred_1d = []\n",
    "y_test_1d = list(df_test.target)\n",
    "scores = model.predict(x_test, verbose=1, batch_size=8000)\n",
    "y_pred_1d = [decode_sentiment(score, include_neutral=False) for score in scores]"
   ]
  },
  {
   "cell_type": "code",
   "execution_count": null,
   "metadata": {},
   "outputs": [],
   "source": [
    "def plot_confusion_matrix(cm, classes,\n",
    "                          title='Confusion matrix',\n",
    "                          cmap=plt.cm.Blues):\n",
    "    \"\"\"\n",
    "    This function prints and plots the confusion matrix.\n",
    "    Normalization can be applied by setting `normalize=True`.\n",
    "    \"\"\"\n",
    "\n",
    "    cm = cm.astype('float') / cm.sum(axis=1)[:, np.newaxis]\n",
    "\n",
    "    plt.imshow(cm, interpolation='nearest', cmap=cmap)\n",
    "    plt.title(title, fontsize=30)\n",
    "    plt.colorbar()\n",
    "    tick_marks = np.arange(len(classes))\n",
    "    plt.xticks(tick_marks, classes, rotation=90, fontsize=22)\n",
    "    plt.yticks(tick_marks, classes, fontsize=22)\n",
    "\n",
    "    fmt = '.2f'\n",
    "    thresh = cm.max() / 2.\n",
    "    for i, j in itertools.product(range(cm.shape[0]), range(cm.shape[1])):\n",
    "        plt.text(j, i, format(cm[i, j], fmt),\n",
    "                 horizontalalignment=\"center\",\n",
    "                 color=\"white\" if cm[i, j] > thresh else \"black\n",
    "    plt.ylabel('True label', fontsize=25)\n",
    "    plt.xlabel('Predicted label', fontsize=25)             "
   ]
  },
  {
   "cell_type": "code",
   "execution_count": null,
   "metadata": {},
   "outputs": [],
   "source": [
    "cnf_matrix = confusion_matrix(y_test_1d, y_pred_1d)\n",
    "plt.figure(figsize=(12,12))\n",
    "plot_confusion_matrix(cnf_matrix, classes=df_train.target.unique(), title=\"Confusion matrix\")\n",
    "plt.show()\n"
   ]
  },
  {
   "cell_type": "code",
   "execution_count": null,
   "metadata": {},
   "outputs": [],
   "source": [
    "#Accuracy Score\n",
    "\n",
    "accuracy_score(y_test_1d, y_pred_1d)"
   ]
  },
  {
   "cell_type": "code",
   "execution_count": null,
   "metadata": {},
   "outputs": [],
   "source": [
    "model.save(KERAS_MODEL)\n",
    "w2v_model.save(WORD2VEC_MODEL)\n",
    "pickle.dump(tokenizer, open(TOKENIZER_MODEL, \"wb\"), protocol=0)\n",
    "pickle.dump(encoder, open(ENCODER_MODEL, \"wb\"), protocol=0)"
   ]
  },
  {
   "cell_type": "code",
   "execution_count": null,
   "metadata": {},
   "outputs": [],
   "source": []
  },
  {
   "cell_type": "code",
   "execution_count": null,
   "metadata": {},
   "outputs": [],
   "source": []
  }
 ],
 "metadata": {
  "kernelspec": {
   "display_name": "Python 3",
   "language": "python",
   "name": "python3"
  },
  "language_info": {
   "codemirror_mode": {
    "name": "ipython",
    "version": 3
   },
   "file_extension": ".py",
   "mimetype": "text/x-python",
   "name": "python",
   "nbconvert_exporter": "python",
   "pygments_lexer": "ipython3",
   "version": "3.7.1"
  }
 },
 "nbformat": 4,
 "nbformat_minor": 2
}
